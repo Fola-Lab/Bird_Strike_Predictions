{
 "cells": [
  {
   "cell_type": "markdown",
   "metadata": {},
   "source": [
    "<div class=\"alert alert-info\" style=\"background-color:#006a79; color:white; padding:0px 10px; border-radius:5px;\"><h2 \n",
    "style='margin:10px 5px'>BIRD STRIKE PREDICTION MODEL BASED ON THE 15 MOST FREQUENT AIRCRAFT OPERATORS</h2>\n",
    "</div>"
   ]
  },
  {
   "cell_type": "markdown",
   "metadata": {},
   "source": [
    "##### This project involves the predictions of bird strike on aircraft and how the indicated damage feature can be predicted based on the datasets used."
   ]
  },
  {
   "cell_type": "code",
   "execution_count": 1,
   "metadata": {},
   "outputs": [],
   "source": [
    "#importing libraries needed for the project\n",
    "import pandas as pd\n",
    "import numpy as np\n",
    "%matplotlib inline\n",
    "import matplotlib.pyplot as plt\n",
    "import seaborn as sns"
   ]
  },
  {
   "cell_type": "code",
   "execution_count": 2,
   "metadata": {},
   "outputs": [
    {
     "name": "stderr",
     "output_type": "stream",
     "text": [
      "C:\\Users\\HP-USER\\Anaconda3\\lib\\site-packages\\sklearn\\utils\\validation.py:37: DeprecationWarning: distutils Version classes are deprecated. Use packaging.version instead.\n",
      "  LARGE_SPARSE_SUPPORTED = LooseVersion(scipy_version) >= '0.14.0'\n"
     ]
    },
    {
     "ename": "ModuleNotFoundError",
     "evalue": "No module named 'sklearn.experimental'",
     "output_type": "error",
     "traceback": [
      "\u001b[1;31m---------------------------------------------------------------------------\u001b[0m",
      "\u001b[1;31mModuleNotFoundError\u001b[0m                       Traceback (most recent call last)",
      "\u001b[1;32m<ipython-input-2-bc03019665ce>\u001b[0m in \u001b[0;36m<module>\u001b[1;34m\u001b[0m\n\u001b[0;32m      1\u001b[0m \u001b[1;32mfrom\u001b[0m \u001b[0msklearn\u001b[0m\u001b[1;33m.\u001b[0m\u001b[0mmodel_selection\u001b[0m \u001b[1;32mimport\u001b[0m \u001b[0mtrain_test_split\u001b[0m\u001b[1;33m\u001b[0m\u001b[1;33m\u001b[0m\u001b[0m\n\u001b[0;32m      2\u001b[0m \u001b[1;32mfrom\u001b[0m \u001b[0msklearn\u001b[0m\u001b[1;33m.\u001b[0m\u001b[0mimpute\u001b[0m \u001b[1;32mimport\u001b[0m \u001b[0mSimpleImputer\u001b[0m\u001b[1;33m\u001b[0m\u001b[1;33m\u001b[0m\u001b[0m\n\u001b[1;32m----> 3\u001b[1;33m \u001b[1;32mfrom\u001b[0m \u001b[0msklearn\u001b[0m\u001b[1;33m.\u001b[0m\u001b[0mexperimental\u001b[0m \u001b[1;32mimport\u001b[0m \u001b[0menable_iterative_imputer\u001b[0m\u001b[1;33m\u001b[0m\u001b[1;33m\u001b[0m\u001b[0m\n\u001b[0m\u001b[0;32m      4\u001b[0m \u001b[1;33m\u001b[0m\u001b[0m\n\u001b[0;32m      5\u001b[0m \u001b[1;32mfrom\u001b[0m \u001b[0msklearn\u001b[0m\u001b[1;33m.\u001b[0m\u001b[0mlinear_model\u001b[0m \u001b[1;32mimport\u001b[0m \u001b[0mLogisticRegression\u001b[0m\u001b[1;33m\u001b[0m\u001b[1;33m\u001b[0m\u001b[0m\n",
      "\u001b[1;31mModuleNotFoundError\u001b[0m: No module named 'sklearn.experimental'"
     ]
    }
   ],
   "source": [
    "from sklearn.model_selection import train_test_split\n",
    "from sklearn.impute import SimpleImputer\n",
    "from sklearn.experimental import enable_iterative_imputer\n",
    "\n",
    "from sklearn.linear_model import LogisticRegression\n",
    "from sklearn.metrics import accuracy_score\n",
    "from sklearn.preprocessing import LabelEncoder\n",
    "import warnings\n",
    "warnings.filterwarnings('ignore') # To ignore avoid warnings that may be prompted"
   ]
  },
  {
   "cell_type": "markdown",
   "metadata": {},
   "source": [
    "<div class=\"alert alert-info\" style=\"background-color:#006a79; color:white; padding:0px 10px; border-radius:5px;\"><h2 \n",
    "style='margin:10px 5px'>LOAD BIRD STRIKE DATASETS</h2>\n",
    "</div>"
   ]
  },
  {
   "cell_type": "code",
   "execution_count": null,
   "metadata": {},
   "outputs": [],
   "source": [
    "bird_strike = pd.read_csv('strike_reports1.csv')\n",
    "bird_strike.head()"
   ]
  },
  {
   "cell_type": "markdown",
   "metadata": {},
   "source": [
    "<div class=\"alert alert-info\" style=\"background-color:#006a79; color:white; padding:0px 10px; border-radius:5px;\"><h2 \n",
    "style='margin:10px 5px'>EXPLORATORY DATA ANALYSIS</h2>\n",
    "</div>"
   ]
  },
  {
   "cell_type": "code",
   "execution_count": null,
   "metadata": {},
   "outputs": [],
   "source": [
    "#checking the data size\n",
    "bird_strike.shape"
   ]
  },
  {
   "cell_type": "code",
   "execution_count": null,
   "metadata": {},
   "outputs": [],
   "source": [
    "#checking duplicated data\n",
    "bird_strike.duplicated().sum()"
   ]
  },
  {
   "cell_type": "code",
   "execution_count": null,
   "metadata": {},
   "outputs": [],
   "source": [
    "#checking null values\n",
    "bird_strike.isnull().sum()"
   ]
  },
  {
   "cell_type": "code",
   "execution_count": null,
   "metadata": {},
   "outputs": [],
   "source": [
    "#checking datatypes\n",
    "bird_strike.dtypes"
   ]
  },
  {
   "cell_type": "code",
   "execution_count": null,
   "metadata": {},
   "outputs": [],
   "source": [
    "#checking data info\n",
    "bird_strike.info()"
   ]
  },
  {
   "cell_type": "code",
   "execution_count": null,
   "metadata": {},
   "outputs": [],
   "source": [
    "#checking data uniqueness\n",
    "bird_strike.nunique()"
   ]
  },
  {
   "cell_type": "code",
   "execution_count": null,
   "metadata": {},
   "outputs": [],
   "source": [
    "#creating a variable to store the percentages of the null values in the strike data\n",
    "missing_percentages = bird_strike.isna().sum().sort_values(ascending = False) / len(bird_strike)\n",
    "#creating a variable to store the percentages of the null values in the strike data that is not equal\n",
    "#to zero\n",
    "missingvalues_notequal_tozero = missing_percentages[missing_percentages != 0]"
   ]
  },
  {
   "cell_type": "code",
   "execution_count": null,
   "metadata": {},
   "outputs": [],
   "source": [
    "#creating a variable to store the first 20 null values in the strike data that is not equal to zero\n",
    "nullvalues_20 = missingvalues_notequal_tozero.head(20)"
   ]
  },
  {
   "cell_type": "code",
   "execution_count": null,
   "metadata": {},
   "outputs": [],
   "source": [
    "#plot showing some features in the strike data that have null values != 0\n",
    "nullvalues_20.plot(kind = 'barh')"
   ]
  },
  {
   "cell_type": "markdown",
   "metadata": {},
   "source": [
    "<div class=\"alert alert-info\" style=\"background-color:#006a79; color:white; padding:0px 10px; border-radius:5px;\"><h2 \n",
    "style='margin:10px 5px'>DATA VISUALIZATION</h2>\n",
    "</div>"
   ]
  },
  {
   "cell_type": "markdown",
   "metadata": {},
   "source": [
    "##### UNIVARIATE ANALYSIS "
   ]
  },
  {
   "cell_type": "code",
   "execution_count": null,
   "metadata": {},
   "outputs": [],
   "source": [
    "plt.figure(figsize=(20,5))\n",
    "plt.subplot(1,2,1)\n",
    "bird_strike['TIME_OF_DAY'].value_counts().plot.pie(autopct='%1.1f%%')\n",
    "plt.subplot(1,2,2)\n",
    "plt.ylabel('')\n",
    "plt.title('TIME OF DAY BIRD STRIKE OCCURED')\n",
    "sns.countplot(bird_strike['TIME_OF_DAY'])\n",
    "bird_strike['TIME_OF_DAY'].value_counts()"
   ]
  },
  {
   "cell_type": "markdown",
   "metadata": {},
   "source": [
    "TIME_OF_DAY category has 4 uniqueness that is, Night, Day, Dawn and Dusk. The Pie chart ahows that the bird strike occurs mostly during the day with 61.4% , followed by Night with 30.4% while the Dusk is 4.6% and Dawn which has the least occurence of 3.7%."
   ]
  },
  {
   "cell_type": "code",
   "execution_count": null,
   "metadata": {},
   "outputs": [],
   "source": [
    "plt.figure(figsize=(15,5))\n",
    "plt.subplot(1,2,1)\n",
    "bird_strike['INCIDENT_MONTH'].value_counts().plot.pie(autopct = '%1.1f%%')\n",
    "plt.subplot(1,2,2)\n",
    "plt.ylabel('')\n",
    "plt.title('INCIDENT OCCURENE PER MONTH')\n",
    "\n",
    "sns.countplot(bird_strike['INCIDENT_MONTH'])\n",
    "bird_strike['INCIDENT_MONTH'].value_counts()"
   ]
  },
  {
   "cell_type": "markdown",
   "metadata": {},
   "source": [
    "The highest month with bird strike occurence is August with it reoccuring 36,129 times which is 14.1% of the total number of occurences while the least month of occurences is February having 8,136 which 3.2% of the total occurences and January is close to it with 8,470 that is, 3.2% of total occurences. Perhaps there is a season where the bird stirke escalate like between July - to - October according to our dataset.\n",
    "\n",
    "March- May (spring);\n",
    "June - August (Summer);\n",
    "September - November (Autumn/Fall);\n",
    "December - February(Winter)"
   ]
  },
  {
   "cell_type": "code",
   "execution_count": null,
   "metadata": {},
   "outputs": [],
   "source": [
    "plt.figure(figsize=(20,5))\n",
    "plt.subplot(1,2,1)\n",
    "bird_strike['FAAREGION'].value_counts().plot.pie(autopct='%1.1f%%')\n",
    "plt.subplot(1,2,2)\n",
    "plt.ylabel('')\n",
    "plt.title('AIRPORT LOCATION OF BIRD STRIKE OCCURENCE')\n",
    "sns.countplot(bird_strike['FAAREGION'])\n",
    "bird_strike['FAAREGION'].value_counts()"
   ]
  },
  {
   "cell_type": "markdown",
   "metadata": {},
   "source": [
    "Airport located at AAL has experience the lowest bird strike experience while ASO had the highest experience with 46,531 which is 20.7% of the higher than other location. I think the environmental factor should be put into consideration in dealing with the bird strike in the airport"
   ]
  },
  {
   "cell_type": "code",
   "execution_count": null,
   "metadata": {},
   "outputs": [],
   "source": [
    "plt.figure(figsize=(15,5))\n",
    "plt.subplot(1,2,1)\n",
    "bird_strike['AC_CLASS'].value_counts().plot.pie(autopct='%1.1f%%')\n",
    "plt.subplot(1,2,2)\n",
    "plt.ylabel('')\n",
    "plt.title('TYPE OF AIRCRAFT')\n",
    "sns.countplot(bird_strike['AC_CLASS'])\n",
    "bird_strike['AC_CLASS'].value_counts()"
   ]
  },
  {
   "cell_type": "markdown",
   "metadata": {},
   "source": [
    "A has the highest percentage of 97.6% followed by B with 2.1%"
   ]
  },
  {
   "cell_type": "code",
   "execution_count": null,
   "metadata": {},
   "outputs": [],
   "source": [
    "plt.figure(figsize=(15,5))\n",
    "plt.subplot(1,2,1)\n",
    "bird_strike['AC_MASS'].value_counts().plot.pie(autopct='%1.1f%%')\n",
    "plt.subplot(1,2,2)\n",
    "plt.ylabel('')\n",
    "plt.title('AIRCRAFT MASS(KG)')\n",
    "sns.countplot(bird_strike['AC_MASS'])\n",
    "bird_strike['AC_MASS'].value_counts()"
   ]
  },
  {
   "cell_type": "markdown",
   "metadata": {},
   "source": [
    "The highest Aircraft Mass is 4kg with 68.9% and the least is 5kg with 1.1%"
   ]
  },
  {
   "cell_type": "code",
   "execution_count": null,
   "metadata": {},
   "outputs": [],
   "source": [
    "%matplotlib inline\n",
    "plt.figure(figsize=(15,5))\n",
    "plt.subplot(1,2,1)\n",
    "bird_strike['TYPE_ENG'].value_counts().plot.pie(autopct='%1.1f%%')\n",
    "plt.subplot(1,2,2)\n",
    "plt.ylabel('')\n",
    "plt.title('TYPE OF AIRCRAFT ENGINE')\n",
    "sns.countplot(bird_strike['TYPE_ENG'])\n",
    "bird_strike['TYPE_ENG'].value_counts()"
   ]
  },
  {
   "cell_type": "markdown",
   "metadata": {},
   "source": [
    "The TYPE_ENG feature has type D engine with the highest value of 154,469 and 83.7% while Type Y engine has the least value of 1 which are other type of engine which are not specify in our dataset"
   ]
  },
  {
   "cell_type": "code",
   "execution_count": null,
   "metadata": {},
   "outputs": [],
   "source": [
    "plt.figure(figsize=(30,5))\n",
    "plt.subplot(1,2,2)\n",
    "plt.ylabel('')\n",
    "plt.title('PRECIPITATION')\n",
    "sns.countplot(bird_strike['PRECIPITATION'])\n",
    "bird_strike['PRECIPITATION'].value_counts()"
   ]
  },
  {
   "cell_type": "code",
   "execution_count": null,
   "metadata": {},
   "outputs": [],
   "source": [
    "plt.figure(figsize=(30,5))\n",
    "plt.subplot(1,2,2)\n",
    "plt.ylabel('')\n",
    "plt.title('PHASE_OF_FLIGHT')\n",
    "sns.countplot(bird_strike['PHASE_OF_FLIGHT'])\n",
    "bird_strike['PHASE_OF_FLIGHT'].value_counts()"
   ]
  },
  {
   "cell_type": "markdown",
   "metadata": {},
   "source": [
    "PHASE_OF_FLIGHT consist of 12 unique values with Approach being the highest of 67,413 and unknown is the least value of 11 of when the bird strike occurred"
   ]
  },
  {
   "cell_type": "code",
   "execution_count": null,
   "metadata": {},
   "outputs": [],
   "source": [
    "plt.figure(figsize=(15,5))\n",
    "plt.subplot(1,2,1)\n",
    "bird_strike['SKY'].value_counts().plot.pie(autopct='%1.1f%%')\n",
    "plt.subplot(1,2,2)\n",
    "plt.ylabel('')\n",
    "plt.title('SKY')\n",
    "sns.countplot(bird_strike['SKY'])\n",
    "bird_strike['SKY'].value_counts()"
   ]
  },
  {
   "cell_type": "markdown",
   "metadata": {},
   "source": [
    "The SKY feature include any type of cloud that covers the aircraft. It comprises of 3 uniques values namely No Cloud (48.1%), Overcast SKY(17.3%), Some Cloud (34.6%)"
   ]
  },
  {
   "cell_type": "code",
   "execution_count": null,
   "metadata": {},
   "outputs": [],
   "source": [
    "%matplotlib inline\n",
    "plt.figure(figsize=(15,5))\n",
    "plt.subplot(1,2,1)\n",
    "bird_strike['DAMAGE_LEVEL'].value_counts().plot.pie(autopct='%1.1f%%')\n",
    "plt.subplot(1,2,2)\n",
    "plt.ylabel('')\n",
    "plt.title('DAMAGED LEVEL AFTER BIRD STRIKE')\n",
    "sns.countplot(bird_strike['DAMAGE_LEVEL'])\n",
    "bird_strike['DAMAGE_LEVEL'].value_counts()"
   ]
  },
  {
   "cell_type": "markdown",
   "metadata": {},
   "source": [
    "None (N) No damage was reported, has the highest number. Minor (M) means when the aircraft can be rendered airworthy by simple repairs or replacements and an extensive inspection is not necessary with 5% of the damage level. Uncertain level (M?),\"The aircraft was damaged, but details as to the extent of the damage are lacking.\" Substantial(S) implies that 2.4% of the aircraft incurs damage or structural failure which adversely affects the structure strength, performance or flight characteristics of the aircraft and which would normally require major repair or replacement of the affected component.\" Destroyed(D),When the damage sustained makes it inadvisable to restore the aircraft to an airworthy condition, this means there ahas not been situation where an aircraft is completely destroyed as a result of bird strike but has inccured 3.4% of uncertain level of damage"
   ]
  },
  {
   "cell_type": "code",
   "execution_count": null,
   "metadata": {},
   "outputs": [],
   "source": [
    "%matplotlib inline\n",
    "plt.figure(figsize=(15,5))\n",
    "plt.subplot(1,2,1)\n",
    "bird_strike['INGESTED'].value_counts().plot.pie(autopct='%1.1f%%')\n",
    "plt.subplot(1,2,2)\n",
    "plt.ylabel('')\n",
    "plt.title('NUMBER OF BIRD INGESTED BY ENGINE')\n",
    "sns.countplot(bird_strike['INGESTED'])\n",
    "bird_strike['INGESTED'].value_counts()"
   ]
  },
  {
   "cell_type": "markdown",
   "metadata": {},
   "source": [
    "4.5% of the bird were ingested by the engine"
   ]
  },
  {
   "cell_type": "code",
   "execution_count": null,
   "metadata": {},
   "outputs": [],
   "source": [
    "%matplotlib inline\n",
    "plt.figure(figsize=(30,5))\n",
    "plt.subplot(1,2,2)\n",
    "plt.ylabel('')\n",
    "plt.title('SIZE')\n",
    "sns.countplot(bird_strike['SIZE'])\n",
    "bird_strike['SIZE'].value_counts()"
   ]
  },
  {
   "cell_type": "code",
   "execution_count": null,
   "metadata": {},
   "outputs": [],
   "source": [
    "%matplotlib inline\n",
    "plt.figure(figsize=(30,5))\n",
    "plt.subplot(1,2,2)\n",
    "plt.ylabel('')\n",
    "plt.title('PILOT WARNED OF BIRD STRIKE')\n",
    "sns.countplot(bird_strike['WARNED'])\n",
    "bird_strike['WARNED'].value_counts()"
   ]
  },
  {
   "cell_type": "markdown",
   "metadata": {},
   "source": [
    "Pilot warned of bird strike is unknown many times according to the charts, therefore all unknown rows will be droped from the datasets"
   ]
  },
  {
   "cell_type": "code",
   "execution_count": null,
   "metadata": {},
   "outputs": [],
   "source": [
    "%matplotlib inline\n",
    "plt.figure(figsize=(30,5))\n",
    "plt.subplot(1,2,2)\n",
    "plt.ylabel('')\n",
    "plt.title('BIRD STRIKE PREDICTION TARGET VARIABLE')\n",
    "sns.countplot(bird_strike['INDICATED_DAMAGE'])\n",
    "bird_strike['INDICATED_DAMAGE'].value_counts()"
   ]
  },
  {
   "cell_type": "markdown",
   "metadata": {},
   "source": [
    "The target variable needs to be upsampled due to be balanced and used for model to avoid a biased result"
   ]
  },
  {
   "cell_type": "code",
   "execution_count": null,
   "metadata": {},
   "outputs": [],
   "source": [
    "state= bird_strike['STATE'].value_counts()\n",
    "st =state.head(20)\n",
    "st.plot(kind= 'bar')\n",
    "\n",
    "plt.title('TOP (20) STATE WHERE BIRD STRIKES OCCURRED')"
   ]
  },
  {
   "cell_type": "markdown",
   "metadata": {},
   "source": [
    "it can be deduced that the following states (CA-California,FL-Florida,TX-Texas and \n",
    "NY-New York) had the highest bird strikes."
   ]
  },
  {
   "cell_type": "code",
   "execution_count": null,
   "metadata": {},
   "outputs": [],
   "source": [
    "airport = bird_strike['AIRPORT'].value_counts()\n",
    "aport =airport.head(20)\n",
    "aport.plot(kind= 'bar')\n",
    "plt.title('TOP (20) AIRPORTS WHERE BIRD STRIKES OCCURRED')"
   ]
  },
  {
   "cell_type": "markdown",
   "metadata": {},
   "source": [
    "DENVER INTL AIRPORT have the highest bird strikes followed DALLAS/FORT WORTH INTL \n",
    "AIRPORT."
   ]
  },
  {
   "cell_type": "code",
   "execution_count": null,
   "metadata": {},
   "outputs": [],
   "source": [
    "%matplotlib inline\n",
    "plt.figure(figsize=(30,5))\n",
    "plt.subplot(1,2,2)\n",
    "plt.ylabel('')\n",
    "plt.title('BIRD SPECIES THAT CAUSED THE BIRD STRIKES')\n",
    "\n",
    "species = bird_strike['SPECIES'].value_counts().head(20)\n",
    "species.plot(kind = 'bar')\n",
    "species"
   ]
  },
  {
   "cell_type": "markdown",
   "metadata": {},
   "source": [
    "The above chart shows the highest number of species of bird are unknown, which means these unknown data needs to be droped provided is above 60% of the species data column"
   ]
  },
  {
   "cell_type": "code",
   "execution_count": null,
   "metadata": {},
   "outputs": [],
   "source": [
    "#\n",
    "df = bird_strike.groupby('TIME_OF_DAY').size()\n",
    "df.plot(kind='bar', subplots=True, figsize=(7, 7))\n",
    "plt.title(\"DISTRIBUTION OF THE TIME OF DAY DURING WHICH THERE WERE BIRD STRIKES\")\n",
    "plt.ylabel(\"\")\n",
    "plt.show()"
   ]
  },
  {
   "cell_type": "code",
   "execution_count": null,
   "metadata": {},
   "outputs": [],
   "source": [
    "#Group sort Month and truck loads in ascending order \n",
    "strike_month= bird_strike.groupby(['INCIDENT_MONTH'])['INDICATED_DAMAGE'].sum().reset_index(name='INDICATED_DAMAGE').sort_values(['INDICATED_DAMAGE'], ascending=True)\n",
    "strike_month.plot(kind='bar', stacked = True)"
   ]
  },
  {
   "cell_type": "code",
   "execution_count": null,
   "metadata": {},
   "outputs": [],
   "source": [
    "#To find the top 20 -----> Applicable to continuous variable\n",
    "\n",
    "#spec= bird_strike.nlargest(20, ['SPECIES'])"
   ]
  },
  {
   "cell_type": "markdown",
   "metadata": {},
   "source": [
    "<div class=\"alert alert-info\" style=\"background-color:#006a79; color:white; padding:0px 10px; border-radius:5px;\"><h2 \n",
    "style='margin:10px 5px'>DATA CLEANING</h2>\n",
    "</div>"
   ]
  },
  {
   "cell_type": "code",
   "execution_count": null,
   "metadata": {},
   "outputs": [],
   "source": [
    "bird_strike.drop(['INCIDENT_YEAR','AIRPORT_ID','RUNWAY','SPECIES_ID','AMO','EMO','FLT','EMA','AMA','TIME_OF_DAY',\n",
    "                  'DAMAGE_LEVEL','ENG_1_POS','ENG_2_POS','ENG_3_POS','ENG_4_POS','NUM_STRUCK','REG','OPID', \n",
    "                  'INGESTED','TYPE_ENG','WARNED'], inplace= True, axis=1)"
   ]
  },
  {
   "cell_type": "code",
   "execution_count": null,
   "metadata": {},
   "outputs": [],
   "source": [
    "bird_strike.shape"
   ]
  },
  {
   "cell_type": "code",
   "execution_count": null,
   "metadata": {},
   "outputs": [],
   "source": [
    "bird_strike['TIME'].unique()"
   ]
  },
  {
   "cell_type": "code",
   "execution_count": null,
   "metadata": {},
   "outputs": [],
   "source": [
    "#remove the %symbol from the column TIME\n",
    "spec_chars = [\"!\",'\"',\"#\",\"%\",\"&\",\"'\",\"(\",\")\",\n",
    "              \"*\",\"+\",\",\",\"-\",\"/\",\";\",\"<\",\n",
    "              \"=\",\">\",\"?\",\"@\",\"[\",\"\\\\\",\"]\",\"^\",\"_\",\n",
    "              \"`\",\"{\",\"|\",\"}\",\"~\",\"–\"]\n",
    "\n",
    "for char in spec_chars:\n",
    "    bird_strike['TIME'] = bird_strike['TIME'].str.replace(char, '')\n",
    "bird_strike['TIME'].unique()"
   ]
  },
  {
   "cell_type": "code",
   "execution_count": null,
   "metadata": {},
   "outputs": [],
   "source": [
    "bird_strike['TIME'].isnull().sum()"
   ]
  },
  {
   "cell_type": "code",
   "execution_count": null,
   "metadata": {},
   "outputs": [],
   "source": [
    "bird_strike['TIME'].tail()"
   ]
  },
  {
   "cell_type": "code",
   "execution_count": null,
   "metadata": {},
   "outputs": [],
   "source": [
    "#removing every data without Time(':') format\n",
    "\n",
    "bird_strike = bird_strike[bird_strike['TIME'].str.contains(':', na = True)]"
   ]
  },
  {
   "cell_type": "code",
   "execution_count": null,
   "metadata": {},
   "outputs": [],
   "source": [
    "#confirm all the time anomalies are removed\n",
    "#bird_strike['TIME'].unique()\n",
    "\n",
    "def confirm_valid_time(x):\n",
    "    tokens = x.split(':')\n",
    "    if len(tokens) == 2:\n",
    "        return x\n",
    "    else:\n",
    "        return 'y' + x"
   ]
  },
  {
   "cell_type": "code",
   "execution_count": null,
   "metadata": {},
   "outputs": [],
   "source": [
    "#bird_strike['TIME'] = 0:84\n",
    "for i in bird_strike['TIME']:\n",
    "    if i == '0:84':\n",
    "            print(i)"
   ]
  },
  {
   "cell_type": "code",
   "execution_count": null,
   "metadata": {},
   "outputs": [],
   "source": [
    "# remove rows using the drop() function\n",
    "\n",
    "bird_strike.drop(bird_strike.index[bird_strike['TIME'] == \"0:84\"],inplace=True)"
   ]
  },
  {
   "cell_type": "code",
   "execution_count": null,
   "metadata": {},
   "outputs": [],
   "source": [
    "#### function to check missing value %\n",
    "def missing(dff):\n",
    "    print(\"Missing values in %\"+\"\\n\")\n",
    "    print((round((dff.isnull().sum() * 100/ len(dff)),2)).sort_values(ascending=False))\n",
    "    print(\"------------------------------\"+\"\\n\")\n",
    "    \n",
    "missing(bird_strike)"
   ]
  },
  {
   "cell_type": "code",
   "execution_count": null,
   "metadata": {},
   "outputs": [],
   "source": [
    "#dropping columns with null value greater than 60%\n",
    "\n",
    "bird_strike = \\\n",
    "bird_strike.drop(bird_strike.loc[:,list((100*(bird_strike.isnull().sum()/len(bird_strike))>=60))].columns, 1)"
   ]
  },
  {
   "cell_type": "code",
   "execution_count": null,
   "metadata": {},
   "outputs": [],
   "source": [
    "bird_strike.shape"
   ]
  },
  {
   "cell_type": "code",
   "execution_count": null,
   "metadata": {},
   "outputs": [],
   "source": [
    "bird_strike['SPECIES'].value_counts()"
   ]
  },
  {
   "cell_type": "code",
   "execution_count": null,
   "metadata": {},
   "outputs": [],
   "source": [
    "# remove rows using the drop() function\n",
    "\n",
    "bird_strike.drop(bird_strike.index[bird_strike['SPECIES'] == \"Unknown bird\"],inplace=True)\n",
    "bird_strike.drop(bird_strike.index[bird_strike['SPECIES'] == \"Unknown bird - small\"],inplace=True)\n",
    "bird_strike.drop(bird_strike.index[bird_strike['SPECIES'] == \"Unknown bird - large\"],inplace=True)\n",
    "bird_strike.drop(bird_strike.index[bird_strike['SPECIES'] == \"Unknown bird - medium\"],inplace=True)\n",
    "bird_strike.drop(bird_strike.index[bird_strike['AIRCRAFT'] == \"UNKNOWN\"],inplace=True)\n",
    "bird_strike.drop(bird_strike.index[bird_strike['PHASE_OF_FLIGHT'] == \"Unknown\"],inplace=True)\n",
    "bird_strike.drop(bird_strike.index[bird_strike['AIRPORT'] == \"UNKNOWN\"],inplace=True)\n",
    "bird_strike.drop(bird_strike.index[bird_strike['OPERATOR'] == \"UNKNOWN\"],inplace=True)"
   ]
  },
  {
   "cell_type": "code",
   "execution_count": null,
   "metadata": {},
   "outputs": [],
   "source": [
    "bird_strike.shape"
   ]
  },
  {
   "cell_type": "code",
   "execution_count": null,
   "metadata": {},
   "outputs": [],
   "source": [
    "bird_strike.tail()"
   ]
  },
  {
   "cell_type": "code",
   "execution_count": null,
   "metadata": {},
   "outputs": [],
   "source": [
    "#Aggregate species based on bird strikes \n",
    "df_species = bird_strike.groupby(by=['SPECIES'])['AIRCRAFT',\"INDICATED_DAMAGE\"].count()\n",
    "df_species.reset_index(level=0, inplace=True)"
   ]
  },
  {
   "cell_type": "code",
   "execution_count": null,
   "metadata": {},
   "outputs": [],
   "source": [
    "df_species.sort_values(by=\"SPECIES\",ascending=False)\n",
    "df_species=df_species[df_species.INDICATED_DAMAGE > 2000]\n",
    "df_species"
   ]
  },
  {
   "cell_type": "code",
   "execution_count": null,
   "metadata": {},
   "outputs": [],
   "source": [
    "plt.figure(figsize=(20, 8))\n",
    "sns.barplot(x=\"SPECIES\",\n",
    "    y=\"INDICATED_DAMAGE\",\n",
    "    data=df_species,\n",
    "    ci=None )\n",
    "plt.ylabel(\"NUMBER OF STRIKES\", size=10)\n",
    "plt.xlabel(\"BIRDS\", size=10)\n",
    "plt.title(\"BIRDS WITH MOST INCIDENTS OF BIRD STRIKES\", size=12)"
   ]
  },
  {
   "cell_type": "markdown",
   "metadata": {},
   "source": [
    "**Frpm the plot, Barn swallow and Mourning dove have the highest bird strikes while American kestrel has the least.\n",
    "**From exploratory data analysis carried out on the dataset, the Barn swallow, Mourning dove, European starling, Killdeer and \n",
    "**American kestrel striked mostly in summer followed by fall, spring and winter.\n",
    "**The Gulls striked mostly in spring followed by fall, summer and winter.\n",
    "**The 6 birds all striked least in winter.\n",
    "**Winter(December to February), \n",
    "**Summer(June to August), \n",
    "**Spring(March to May) and \n",
    "**Fall(September to November)"
   ]
  },
  {
   "cell_type": "code",
   "execution_count": null,
   "metadata": {},
   "outputs": [],
   "source": [
    "#Aggregate airports based on bird strikes \n",
    "df_airport = bird_strike.groupby(by=['AIRPORT'])[\"SPECIES\",\"INDICATED_DAMAGE\"].count()\n",
    "df_airport.reset_index(level=0, inplace=True)"
   ]
  },
  {
   "cell_type": "code",
   "execution_count": null,
   "metadata": {},
   "outputs": [],
   "source": [
    "df_airport.sort_values(by=\"SPECIES\",ascending=False)\n",
    "df_airport=df_airport[df_airport.SPECIES > 1000]\n",
    "df_airport.head(5)"
   ]
  },
  {
   "cell_type": "code",
   "execution_count": null,
   "metadata": {},
   "outputs": [],
   "source": [
    "plt.figure(figsize=(30, 15))\n",
    "sns.barplot(x=\"AIRPORT\",\n",
    "    y=\"SPECIES\",\n",
    "    data=df_airport,\n",
    "    ci=None )\n",
    "plt.ylabel(\"NUMBER OF STRIKES\", size=14)\n",
    "plt.xlabel(\"AIRPORT\", size=14)\n",
    "plt.title(\"AIRPORTS WITH MOST INCIDENCES OF BIRD STRIKES\", size=18)"
   ]
  },
  {
   "cell_type": "code",
   "execution_count": null,
   "metadata": {},
   "outputs": [],
   "source": [
    "#Aggregate airline operators based on bird strikes \n",
    "df_operator = bird_strike.groupby(by=['OPERATOR'])[\"SPECIES\",\"INDICATED_DAMAGE\"].count()\n",
    "df_operator.reset_index(level=0, inplace=True)"
   ]
  },
  {
   "cell_type": "code",
   "execution_count": null,
   "metadata": {},
   "outputs": [],
   "source": [
    "df_operator.sort_values(by=\"SPECIES\",ascending=False)\n",
    "df_operator=df_operator[df_operator.SPECIES > 3000]\n",
    "df_operator.head(5)"
   ]
  },
  {
   "cell_type": "code",
   "execution_count": null,
   "metadata": {},
   "outputs": [],
   "source": [
    "plt.figure(figsize=(10, 8))\n",
    "sns.barplot(x=\"OPERATOR\",\n",
    "    y=\"SPECIES\",\n",
    "    data=df_operator,\n",
    "    ci=None )\n",
    "plt.ylabel(\"NUMBER OF STRIKES\", size=14)\n",
    "plt.xlabel(\"AIRLINE\", size=14)\n",
    "plt.title(\"AIRLINES WITH MOST INCIDENCES OF BIRD STRIKES\", size=18)"
   ]
  },
  {
   "cell_type": "code",
   "execution_count": null,
   "metadata": {},
   "outputs": [],
   "source": [
    "#Aggregate species based on bird strikes \n",
    "df_month = bird_strike.groupby(by=['INCIDENT_MONTH'])[\"SPECIES\",\"INDICATED_DAMAGE\"].count()\n",
    "df_month.reset_index(level=0, inplace=True)"
   ]
  },
  {
   "cell_type": "code",
   "execution_count": null,
   "metadata": {},
   "outputs": [],
   "source": [
    "df_month.sort_values(by=\"INCIDENT_MONTH\",ascending=False)\n",
    "df_month=df_month[df_month.INDICATED_DAMAGE > 2000]\n",
    "df_month"
   ]
  },
  {
   "cell_type": "code",
   "execution_count": null,
   "metadata": {},
   "outputs": [],
   "source": [
    "plt.figure(figsize=(30, 10))\n",
    "sns.barplot(x=\"INCIDENT_MONTH\",\n",
    "    y=\"INDICATED_DAMAGE\",\n",
    "    data=df_month,\n",
    "    ci=None )\n",
    "plt.ylabel(\"NUMBER OF STRIKES\", size=14)\n",
    "plt.xlabel(\"MONTH\", size=14)\n",
    "plt.title(\"MONTH WITH MOST INCIDENCES OF BIRD STRIKES\", size=18)"
   ]
  },
  {
   "cell_type": "markdown",
   "metadata": {},
   "source": [
    "This output implies that the between 5th month (May) through the 8th (August) the bird strike occurrence on an aircraft increases and started to decline from september through December.Meaning that there are seasons when there's high occurence of bird strike"
   ]
  },
  {
   "cell_type": "markdown",
   "metadata": {},
   "source": [
    "Check the airport, species that have their highest strikes between May and August"
   ]
  },
  {
   "cell_type": "code",
   "execution_count": null,
   "metadata": {},
   "outputs": [],
   "source": [
    "sp_month= (bird_strike.loc[:,['SPECIES', 'INCIDENT_MONTH', 'AIRPORT']])\n",
    "sp_month.head()"
   ]
  },
  {
   "cell_type": "code",
   "execution_count": null,
   "metadata": {},
   "outputs": [],
   "source": [
    "sp_month.nunique()"
   ]
  },
  {
   "cell_type": "markdown",
   "metadata": {},
   "source": [
    "<div class=\"alert alert-info\" style=\"background-color:#006a79; color:white; padding:0px 10px; border-radius:5px;\"><h2 style='margin:10px 5px'>DEALING WITH MISSING VALUE</h2>\n",
    "</div>"
   ]
  },
  {
   "cell_type": "code",
   "execution_count": null,
   "metadata": {},
   "outputs": [],
   "source": [
    "bird_strike.isnull().sum()"
   ]
  },
  {
   "cell_type": "code",
   "execution_count": null,
   "metadata": {
    "scrolled": true
   },
   "outputs": [],
   "source": []
  },
  {
   "cell_type": "markdown",
   "metadata": {},
   "source": [
    "\n",
    "##### Missing value will be fixed by splitting our datasets into X_train and X_test"
   ]
  },
  {
   "cell_type": "code",
   "execution_count": null,
   "metadata": {},
   "outputs": [],
   "source": [
    "#split datasets into X_train and X_test\n",
    "\n",
    "X_train,X_test = \\\n",
    "train_test_split(bird_strike, test_size=0.3, random_state = 0)"
   ]
  },
  {
   "cell_type": "code",
   "execution_count": null,
   "metadata": {},
   "outputs": [],
   "source": [
    "X_train.head()"
   ]
  },
  {
   "cell_type": "code",
   "execution_count": null,
   "metadata": {},
   "outputs": [],
   "source": [
    "X_train.shape"
   ]
  },
  {
   "cell_type": "code",
   "execution_count": null,
   "metadata": {},
   "outputs": [],
   "source": [
    "X_test.shape"
   ]
  },
  {
   "cell_type": "code",
   "execution_count": null,
   "metadata": {},
   "outputs": [],
   "source": [
    "X_train.isnull().sum()"
   ]
  },
  {
   "cell_type": "code",
   "execution_count": null,
   "metadata": {},
   "outputs": [],
   "source": [
    "#Filtering the columns with null values\n",
    "null_col_train = X_train.loc[:, X_train.isna().any()]\n",
    "null_col_train.tail()"
   ]
  },
  {
   "cell_type": "code",
   "execution_count": null,
   "metadata": {},
   "outputs": [],
   "source": [
    "#checking the percentage of missing value with a bar plot\n",
    "null_col_train.isnull().mean().plot.barh(figsize=(12,6))\n",
    "plt.ylabel('Percentage of missing values')\n",
    "plt.xlabel('Features')\n",
    "plt.title('Quantifying missing data')"
   ]
  },
  {
   "cell_type": "code",
   "execution_count": null,
   "metadata": {},
   "outputs": [],
   "source": [
    "#filtering features with continuous variable for training set\n",
    "continuous_F = null_col_train.select_dtypes(['category', 'float']).columns\n",
    "for col in continuous_F:\n",
    "    print('{}: {} unique values'.format(col, X_train[col].nunique()))"
   ]
  },
  {
   "cell_type": "code",
   "execution_count": null,
   "metadata": {},
   "outputs": [],
   "source": [
    "#Features with float dtypes\n",
    "df= ['LATITUDE','LONGITUDE','AC_MASS','NUM_ENGS','HEIGHT','DISTANCE']\n"
   ]
  },
  {
   "cell_type": "code",
   "execution_count": null,
   "metadata": {},
   "outputs": [],
   "source": [
    "#Check the distribution of the columns with null values\n",
    "null_col_train.hist(figsize=(12, 10), bins=30, edgecolor=\"black\")\n",
    "plt.subplots_adjust(hspace=0.7, wspace=0.4)\n",
    "plt.title('DISTRIBUTION FOR CONTINUOUS FEATURES WITH NULL VALUE ')"
   ]
  },
  {
   "cell_type": "code",
   "execution_count": null,
   "metadata": {},
   "outputs": [],
   "source": [
    "#import libraries from sci-kit learn to fix the missing data\n",
    "\n",
    "from sklearn.model_selection import train_test_split\n",
    "from sklearn.linear_model import BayesianRidge\n",
    "\n",
    "#from sklearn.experimental import enable_iterative_imputer\n",
    "from sklearn.impute import IterativeImputer"
   ]
  },
  {
   "cell_type": "code",
   "execution_count": null,
   "metadata": {},
   "outputs": [],
   "source": [
    "#Simple imputation method with media on some specific column\n",
    "#Let's group a subset of columns to which we want to apply different \n",
    "#imputation techniques in lists:\n",
    "features_num_median = ['AC_MASS','NUM_ENGS']\n",
    "features_cat_frequent = ['DISTANCE' ]"
   ]
  },
  {
   "cell_type": "code",
   "execution_count": null,
   "metadata": {},
   "outputs": [],
   "source": [
    "#Let's create a MICE imputer using Bayes regression as an estimator, \n",
    "#specifying the number of iteration cycles and setting random_state for reproducibility:\n",
    "\n",
    "imputer = IterativeImputer(estimator = BayesianRidge(), max_iter=10, random_state=0)"
   ]
  },
  {
   "cell_type": "code",
   "execution_count": null,
   "metadata": {},
   "outputs": [],
   "source": [
    "df1= ['LATITUDE','LONGITUDE','AC_MASS','NUM_ENGS','HEIGHT','DISTANCE']\n",
    "X_train[df1].head()"
   ]
  },
  {
   "cell_type": "code",
   "execution_count": null,
   "metadata": {},
   "outputs": [],
   "source": [
    "#Use fit IterativeImputer() to train set, so that it trains the estimators to \n",
    "#predict the missing values in each variable:\n",
    "imputer.fit(X_train[df1])"
   ]
  },
  {
   "cell_type": "code",
   "execution_count": null,
   "metadata": {},
   "outputs": [],
   "source": [
    "#Finally, let's fill in missing values in both train and test set:\n",
    "X_train[df1] = imputer.transform(X_train[df1])\n",
    "X_test[df1] = imputer.transform(X_test[df1])\n",
    "\n",
    "#We fitted IterativeImputer() to the train set so that each variable \n",
    "#was modeled based on the remaining variables in the dataset. "
   ]
  },
  {
   "cell_type": "code",
   "execution_count": null,
   "metadata": {},
   "outputs": [],
   "source": [
    "X_train[df1]= pd.DataFrame(X_train[df1], columns= ['LATITUDE','LONGITUDE','AC_MASS','NUM_ENGS','HEIGHT','DISTANCE'])\n",
    "X_test[df1]= pd.DataFrame(X_test[df1], columns= ['LATITUDE','LONGITUDE','AC_MASS','NUM_ENGS','HEIGHT','DISTANCE'])"
   ]
  },
  {
   "cell_type": "code",
   "execution_count": null,
   "metadata": {},
   "outputs": [],
   "source": [
    "X_test.isnull().sum()"
   ]
  },
  {
   "cell_type": "code",
   "execution_count": null,
   "metadata": {},
   "outputs": [],
   "source": [
    "#Filtering features with object data types for the test set\n",
    "categorical_F = X_train.select_dtypes(['category', 'object']).columns\n",
    "for col in categorical_F:\n",
    "    print('{} : {} unique value(s)'.format(col, X_train[col].nunique()))"
   ]
  },
  {
   "cell_type": "code",
   "execution_count": null,
   "metadata": {},
   "outputs": [],
   "source": [
    "df2 = ['TIME', 'AIRPORT','STATE','FAAREGION','OPERATOR', 'AIRCRAFT', 'AC_CLASS','TYPE_ENG',\n",
    "'PHASE_OF_FLIGHT','SKY', 'PRECIPITATION','SPECIES','SIZE']\n",
    "\n",
    "X_train[df2].tail()"
   ]
  },
  {
   "cell_type": "code",
   "execution_count": null,
   "metadata": {},
   "outputs": [],
   "source": [
    "#Now, let's combine step 4 to step 7 in a loop to replace the missing data in the variables in various train and test sets:\n",
    "#Note how we always extract values from the train set, but we calculate the number of missing \n",
    "#values and the index using the train or test sets, respectively.\n",
    "\n",
    "for var in['TIME', 'AIRPORT','STATE','FAAREGION','OPERATOR', 'AIRCRAFT', 'AC_CLASS','TYPE_ENG',\n",
    "'PHASE_OF_FLIGHT','SKY', 'PRECIPITATION','SPECIES','SIZE']:\n",
    "\n",
    "    # extract a random sample\n",
    "    random_sample_train = X_train[var].dropna().sample(\n",
    "        X_train[var].isnull().sum(), random_state=0, replace= True)\n",
    "\n",
    "    random_sample_test = X_train[var].dropna().sample(\n",
    "        X_test[var].isnull().sum(), random_state=0)\n",
    "\n",
    "    # re-index the randomly extracted sample\n",
    "    random_sample_train.index = X_train[\n",
    "            X_train[var].isnull()].index\n",
    "    random_sample_test.index = X_test[X_test[var].isnull()].index\n",
    "\n",
    "    # replace the NA\n",
    "    X_train.loc[X_train[var].isnull(), var] = random_sample_train\n",
    "    X_test.loc[X_test[var].isnull(), var] = random_sample_test"
   ]
  },
  {
   "cell_type": "code",
   "execution_count": null,
   "metadata": {},
   "outputs": [],
   "source": [
    "X_train.head()"
   ]
  },
  {
   "cell_type": "code",
   "execution_count": null,
   "metadata": {},
   "outputs": [],
   "source": [
    "X_train.isnull().sum()"
   ]
  },
  {
   "cell_type": "code",
   "execution_count": null,
   "metadata": {},
   "outputs": [],
   "source": [
    "X_test.isnull().sum()"
   ]
  },
  {
   "cell_type": "code",
   "execution_count": null,
   "metadata": {},
   "outputs": [],
   "source": [
    "X_train.dtypes"
   ]
  },
  {
   "cell_type": "code",
   "execution_count": null,
   "metadata": {},
   "outputs": [],
   "source": [
    "#fixing the datatypes\n",
    "X_test.dtypes"
   ]
  },
  {
   "cell_type": "code",
   "execution_count": null,
   "metadata": {},
   "outputs": [],
   "source": [
    "e"
   ]
  },
  {
   "cell_type": "markdown",
   "metadata": {},
   "source": [
    "<div class=\"alert alert-info\" style=\"background-color:#006a79; color:white; padding:0px 10px; border-radius:5px;\"><h2 \n",
    "style='margin:10px 5px'>FEATURE ENGINEERING</h2>\n",
    "</div>"
   ]
  },
  {
   "cell_type": "code",
   "execution_count": null,
   "metadata": {},
   "outputs": [],
   "source": [
    "#conversion of object to datetime datatype by combining the INCIDENT_DATE column with TIME column\n",
    "\n",
    "combined_train = X_train.INCIDENT_DATE.str.cat(X_train.TIME, sep = ' ')"
   ]
  },
  {
   "cell_type": "code",
   "execution_count": null,
   "metadata": {},
   "outputs": [],
   "source": [
    "combined_test = X_test.INCIDENT_DATE.str.cat(X_test.TIME, sep = ' ')"
   ]
  },
  {
   "cell_type": "code",
   "execution_count": null,
   "metadata": {},
   "outputs": [],
   "source": [
    "combined_train.tail(2)"
   ]
  },
  {
   "cell_type": "code",
   "execution_count": null,
   "metadata": {},
   "outputs": [],
   "source": [
    "combined_test.tail(2)"
   ]
  },
  {
   "cell_type": "code",
   "execution_count": null,
   "metadata": {},
   "outputs": [],
   "source": [
    "#Create a new column for Date \n",
    "#Convert the combined into datetime datatype\n",
    "\n",
    "X_train['DATE'] = pd.to_datetime(combined_train)"
   ]
  },
  {
   "cell_type": "code",
   "execution_count": null,
   "metadata": {},
   "outputs": [],
   "source": [
    "#Create a new column for Date \n",
    "#Convert the combined into datetime datatype\n",
    "\n",
    "X_test['DATE'] = pd.to_datetime(combined_test)"
   ]
  },
  {
   "cell_type": "code",
   "execution_count": null,
   "metadata": {},
   "outputs": [],
   "source": [
    "X_train.dtypes"
   ]
  },
  {
   "cell_type": "code",
   "execution_count": null,
   "metadata": {},
   "outputs": [],
   "source": [
    "X_train['HOUR'] = X_train.DATE.dt.hour\n",
    "X_test['HOUR'] = X_test.DATE.dt.hour"
   ]
  },
  {
   "cell_type": "code",
   "execution_count": null,
   "metadata": {},
   "outputs": [],
   "source": [
    "X_train['MINUTES'] = X_train.DATE.dt.minute\n",
    "X_test['MINUTES'] = X_test.DATE.dt.minute"
   ]
  },
  {
   "cell_type": "code",
   "execution_count": null,
   "metadata": {},
   "outputs": [],
   "source": [
    "X_train['YEAR'] = X_train.DATE.dt.year\n",
    "X_test['YEAR'] = X_test.DATE.dt.year"
   ]
  },
  {
   "cell_type": "code",
   "execution_count": null,
   "metadata": {},
   "outputs": [],
   "source": [
    "#Extract \"month\" component from the DATE\n",
    "\n",
    "X_train['MONTH'] = X_train.DATE.dt.month_name()\n",
    "X_test['MONTH'] = X_test.DATE.dt.month_name()"
   ]
  },
  {
   "cell_type": "code",
   "execution_count": null,
   "metadata": {},
   "outputs": [],
   "source": [
    "#Extract \"month\" component from the DATE\n",
    "\n",
    "X_train['WEEK_DAY'] = X_train.DATE.dt.day_name()\n",
    "X_test['WEEK_DAY'] = X_test.DATE.dt.day_name()"
   ]
  },
  {
   "cell_type": "code",
   "execution_count": null,
   "metadata": {},
   "outputs": [],
   "source": [
    "X_train.head(2)"
   ]
  },
  {
   "cell_type": "code",
   "execution_count": null,
   "metadata": {},
   "outputs": [],
   "source": [
    "X_test.head(2)"
   ]
  },
  {
   "cell_type": "code",
   "execution_count": null,
   "metadata": {},
   "outputs": [],
   "source": [
    "#Drop unneeded columns after \"Incident_date\" transformation\n",
    "X_train.drop(['INCIDENT_DATE','INCIDENT_MONTH', 'TIME', 'DATE'], axis=1, inplace=True)\n",
    "\n",
    "#Drop unneeded columns after \"Incident_date\" transformation\n",
    "X_test.drop(['INCIDENT_DATE','INCIDENT_MONTH', 'TIME', 'DATE'], axis=1, inplace=True)"
   ]
  },
  {
   "cell_type": "code",
   "execution_count": null,
   "metadata": {},
   "outputs": [],
   "source": [
    "X_train.tail(2)"
   ]
  },
  {
   "cell_type": "code",
   "execution_count": null,
   "metadata": {},
   "outputs": [],
   "source": []
  },
  {
   "cell_type": "code",
   "execution_count": null,
   "metadata": {},
   "outputs": [],
   "source": [
    "dff = pd.read_csv('bird_strike_clean.csv')"
   ]
  },
  {
   "cell_type": "code",
   "execution_count": null,
   "metadata": {},
   "outputs": [],
   "source": []
  },
  {
   "cell_type": "code",
   "execution_count": null,
   "metadata": {},
   "outputs": [],
   "source": [
    "dff.head()"
   ]
  },
  {
   "cell_type": "code",
   "execution_count": null,
   "metadata": {},
   "outputs": [],
   "source": []
  },
  {
   "cell_type": "code",
   "execution_count": null,
   "metadata": {},
   "outputs": [],
   "source": []
  },
  {
   "cell_type": "markdown",
   "metadata": {},
   "source": [
    "#### Write the clean data to file "
   ]
  },
  {
   "cell_type": "code",
   "execution_count": null,
   "metadata": {},
   "outputs": [],
   "source": [
    "#bird_strike_clean= pd.concat([X_train, X_test],sort= False, ignore_index=True)"
   ]
  },
  {
   "cell_type": "code",
   "execution_count": null,
   "metadata": {},
   "outputs": [],
   "source": [
    "#bird_strike_clean.to_csv('bird_strike_clean.csv', sep= ',', header = True, index= True)"
   ]
  },
  {
   "cell_type": "code",
   "execution_count": null,
   "metadata": {},
   "outputs": [],
   "source": [
    "#%pycat bird_strike_clean.csv"
   ]
  },
  {
   "cell_type": "markdown",
   "metadata": {},
   "source": [
    "<div class=\"alert alert-info\" style=\"background-color:#006a79; color:white; padding:0px 10px; border-radius:5px;\"><h2 \n",
    "style='margin:10px 5px'>VISUALIZING BIRD STRIKE LOCATION</h2>\n",
    "</div>"
   ]
  },
  {
   "cell_type": "code",
   "execution_count": null,
   "metadata": {},
   "outputs": [],
   "source": [
    "strike = pd.read_csv('bird_strike_clean.csv')\n",
    "strike.head()"
   ]
  },
  {
   "cell_type": "code",
   "execution_count": null,
   "metadata": {},
   "outputs": [],
   "source": [
    "strike.drop(['Unnamed: 0'], inplace= True, axis=1)"
   ]
  },
  {
   "cell_type": "code",
   "execution_count": null,
   "metadata": {},
   "outputs": [],
   "source": [
    "st= pd.DataFrame(strike['AIRPORT'].value_counts().head(10))\n",
    "st.plot(kind= 'bar',figsize=(15,5), color= 'green')\n",
    "plt.title(\"TOP 10 AIRPORT WITH BIRD STRIKE OCCURENCE\")"
   ]
  },
  {
   "cell_type": "code",
   "execution_count": null,
   "metadata": {},
   "outputs": [],
   "source": [
    "sp= pd.DataFrame(strike['SPECIES'].value_counts().head(10))\n",
    "sp.plot(kind= 'bar',figsize=(15,5), color= 'green')\n",
    "plt.title(\"TOP 10 SPECIES WITH BIRD STRIKE OCCURENCE\")"
   ]
  },
  {
   "cell_type": "code",
   "execution_count": null,
   "metadata": {},
   "outputs": [],
   "source": [
    "plt.figure(figsize=(15,10))\n",
    "plt.subplot(1,2,1)\n",
    "sp['SPECIES'].plot.pie(autopct='%1.1f%%')\n"
   ]
  },
  {
   "cell_type": "code",
   "execution_count": null,
   "metadata": {},
   "outputs": [],
   "source": [
    "sp"
   ]
  },
  {
   "cell_type": "code",
   "execution_count": null,
   "metadata": {},
   "outputs": [],
   "source": [
    "species= ['Gulls','Mourning dove','Barn swallow','European starling','Sparrows','Killdeer','American kestrel',\n",
    "'Horned lark','Rock pigeon','Red-tailed hawk']"
   ]
  },
  {
   "cell_type": "code",
   "execution_count": null,
   "metadata": {},
   "outputs": [],
   "source": [
    "bird_str = strike.loc[strike.SPECIES.isin(species)]"
   ]
  },
  {
   "cell_type": "code",
   "execution_count": null,
   "metadata": {},
   "outputs": [],
   "source": [
    "bird_str"
   ]
  },
  {
   "cell_type": "code",
   "execution_count": null,
   "metadata": {},
   "outputs": [],
   "source": [
    "bird_str.shape"
   ]
  },
  {
   "cell_type": "code",
   "execution_count": null,
   "metadata": {},
   "outputs": [],
   "source": [
    "bird_str_sub= bird_str[['AIRPORT', 'SPECIES', 'SIZE' ,'INDICATED_DAMAGE']]"
   ]
  },
  {
   "cell_type": "code",
   "execution_count": null,
   "metadata": {},
   "outputs": [],
   "source": [
    "#subset dataset\n",
    "\n",
    "bird_str_sub"
   ]
  },
  {
   "cell_type": "code",
   "execution_count": null,
   "metadata": {},
   "outputs": [],
   "source": [
    "bird_str_sub['AIRPORT'].value_counts().head(15)"
   ]
  },
  {
   "cell_type": "code",
   "execution_count": null,
   "metadata": {},
   "outputs": [],
   "source": [
    "ar_port= [\"DENVER INTL AIRPORT\",\"DALLAS/FORT WORTH INTL ARPT\",\"CHICAGO O'HARE INTL ARPT\",\"PHILADELPHIA INTL\",\n",
    "          \"DETROIT METRO WAYNE COUNTY ARPT\",\"KANSAS CITY INTL\",\"SALT LAKE CITY INTL\",\"JOHN F KENNEDY INTL\",\n",
    "          \"LA GUARDIA ARPT\",\"CLEVELAND-HOPKINS INTL ARPT\",\"JOHN GLENN COLUMBUS INTL ARPT\",\"LOS ANGELES INTL\",\n",
    "          \"ORLANDO INTL\",\"HARTSFIELD - JACKSON ATLANTA INTL ARPT\",\"BALTIMORE/WASH INTL THURGOOD MARSHAL ARPT\"]"
   ]
  },
  {
   "cell_type": "code",
   "execution_count": null,
   "metadata": {},
   "outputs": [],
   "source": [
    "bird_str_sub2= bird_str_sub.loc[bird_str_sub.AIRPORT.isin(ar_port)]"
   ]
  },
  {
   "cell_type": "code",
   "execution_count": null,
   "metadata": {},
   "outputs": [],
   "source": [
    "bird_str_sub2.shape"
   ]
  },
  {
   "cell_type": "code",
   "execution_count": null,
   "metadata": {},
   "outputs": [],
   "source": [
    "bird_str_sub2.tail()"
   ]
  },
  {
   "cell_type": "code",
   "execution_count": null,
   "metadata": {},
   "outputs": [],
   "source": [
    "port_sp = pd.crosstab(bird_str_sub2['AIRPORT'],bird_str_sub2['SPECIES'])\n",
    "\n",
    "port_sp.plot(kind='bar', stacked= True, figsize=(15,10))"
   ]
  },
  {
   "cell_type": "code",
   "execution_count": null,
   "metadata": {},
   "outputs": [],
   "source": []
  },
  {
   "cell_type": "code",
   "execution_count": null,
   "metadata": {},
   "outputs": [],
   "source": [
    "strike.plot(kind=\"scatter\", x=\"LONGITUDE\", y=\"LATITUDE\", alpha=0.4)\n",
    "plt.show()"
   ]
  },
  {
   "cell_type": "code",
   "execution_count": null,
   "metadata": {},
   "outputs": [],
   "source": []
  },
  {
   "cell_type": "markdown",
   "metadata": {},
   "source": [
    "###### the above scatter plot reveal the concentration of airport in a region with high experience of bird strike occurences"
   ]
  },
  {
   "cell_type": "code",
   "execution_count": null,
   "metadata": {},
   "outputs": [],
   "source": [
    "#To import map use ipyleaflet\n",
    "from ipyleaflet import (Map, Marker, DrawControl)\n",
    "\n",
    "#Provide the longitude and latitude of the location\n",
    "myMap= Map(center=[28.42889, -81.31603], zoom= 10)\n",
    "\n",
    "# To draw shapes on the Map, \n",
    "dc= DrawControl(circle={'shapeOptions':{'color':'#0000FF'}})\n",
    "\n",
    "# To create control on top of the map\n",
    "myMap.add_control(dc)\n",
    "\n",
    "myMap"
   ]
  },
  {
   "cell_type": "markdown",
   "metadata": {},
   "source": [
    "##### the map above is showing the Orlando Int'l airport location based on the geograhical location on the Longitude and Latitude, predominantly experience bird strike by Morning dove"
   ]
  },
  {
   "cell_type": "code",
   "execution_count": null,
   "metadata": {},
   "outputs": [],
   "source": [
    "from ipyleaflet import Map, Marker, DrawControl\n",
    "\n",
    "start_loc = (41.16348, -73.12618)\n",
    "m = Map(center=start_loc, zoom=16, scroll_wheel_zoom=True)\n",
    "display(m)\n",
    "\n",
    "marker = Marker(location=start_loc, draggable=False)\n",
    "m.add_layer(marker)\n",
    "\n",
    "# To draw shapes on the Map, \n",
    "dc= DrawControl(circle={'shapeOptions':{'color':'#0000FF'}})\n",
    "\n",
    "# To create control on top of the map\n",
    "m.add_control(dc)\n",
    "\n"
   ]
  },
  {
   "cell_type": "markdown",
   "metadata": {},
   "source": [
    "<div class=\"alert alert-info\" style=\"background-color:#006a79; color:white; padding:0px 10px; border-radius:5px;\"><h2 \n",
    "style='margin:10px 5px'>FEATURE ENCODING</h2>\n",
    "</div>"
   ]
  },
  {
   "cell_type": "code",
   "execution_count": null,
   "metadata": {},
   "outputs": [],
   "source": [
    "X_train.shape"
   ]
  },
  {
   "cell_type": "code",
   "execution_count": null,
   "metadata": {},
   "outputs": [],
   "source": [
    "X_test.shape"
   ]
  },
  {
   "cell_type": "code",
   "execution_count": null,
   "metadata": {},
   "outputs": [],
   "source": [
    "#select categorical feature from the X_train\n",
    "\n",
    "from sklearn.compose import make_column_selector as selector\n",
    "\n",
    "categorical_columns_selector = selector(dtype_include=object)\n",
    "categorical_columns = categorical_columns_selector(X_train)\n",
    "categorical_columns"
   ]
  },
  {
   "cell_type": "raw",
   "metadata": {},
   "source": [
    "selecting the categorical features to find out the kind of encoding to be applied to each categorical features"
   ]
  },
  {
   "cell_type": "code",
   "execution_count": null,
   "metadata": {},
   "outputs": [],
   "source": [
    "X_train['SPECIES'].value_counts()"
   ]
  },
  {
   "cell_type": "code",
   "execution_count": null,
   "metadata": {},
   "outputs": [],
   "source": [
    "X_train['PHASE_OF_FLIGHT'].value_counts()"
   ]
  },
  {
   "cell_type": "code",
   "execution_count": null,
   "metadata": {},
   "outputs": [],
   "source": [
    "#Convert target feature \"INDICATED_DAMAGE\" TRUE and FALSE responses to 1 or 0\n",
    "X_train[\"INDICATED_DAMAGE\"].replace({False: 0, True: 1}, inplace=True)\n",
    "X_test  [\"INDICATED_DAMAGE\"].replace({False: 0, True: 1}, inplace=True)"
   ]
  },
  {
   "cell_type": "code",
   "execution_count": null,
   "metadata": {},
   "outputs": [],
   "source": [
    "#Count the number of observations per category of SPECIES, sort them in decreasing order, \n",
    "#and then display the five most frequent categories:\n",
    "X_train['SPECIES'].value_counts().sort_values(ascending=False).head(5)"
   ]
  },
  {
   "cell_type": "code",
   "execution_count": null,
   "metadata": {},
   "outputs": [],
   "source": [
    "#To capture the most frequent categories of SPECIES & PHASE OF FLIGHT \n",
    "#in a list using the code in the step above inside a list comprehension:\n",
    "top_5 = [cat for cat in X_train['SPECIES'].value_counts().sort_values(\n",
    "        ascending=False).head(5).index]\n",
    "top_F = [cat for cat in X_train['PHASE_OF_FLIGHT'].value_counts().sort_values(\n",
    "        ascending=False).head(5).index]\n",
    "\n",
    "#Now, let's capture the most frequent categories of SPECIES & PHASE OF FLIGHT\n",
    "#in a list using the code in the step above inside a list comprehension:\n",
    "top_test_5 = [cat for cat in X_test['SPECIES'].value_counts().sort_values(\n",
    "        ascending=False).head(5).index]\n",
    "top_test_F = [cat for cat in X_test['PHASE_OF_FLIGHT'].value_counts().sort_values(\n",
    "        ascending=False).head(5).index]"
   ]
  },
  {
   "cell_type": "code",
   "execution_count": null,
   "metadata": {},
   "outputs": [],
   "source": [
    "top_F"
   ]
  },
  {
   "cell_type": "code",
   "execution_count": null,
   "metadata": {},
   "outputs": [],
   "source": [
    "#Using One-Hot encoder to encode selescted categorical features "
   ]
  },
  {
   "cell_type": "code",
   "execution_count": null,
   "metadata": {},
   "outputs": [],
   "source": [
    "import numpy as np\n",
    "#adding binary variable per top category in the train and test sets:\n",
    "for category in top_5:\n",
    "    X_train['SPECIES' + '_' + category] = np.where(X_train['SPECIES'] == category, 1, 0)\n",
    "    \n",
    "for category in top_test_5:\n",
    "    X_test['SPECIES' + '_' + category] = np.where(X_test['SPECIES'] == category, 1, 0)"
   ]
  },
  {
   "cell_type": "code",
   "execution_count": null,
   "metadata": {},
   "outputs": [],
   "source": [
    "for category in top_F:\n",
    "    X_train['PHASE_OF_FLIGHT' + '_' + category] = np.where(X_train['PHASE_OF_FLIGHT'] == category, 1, 0)\n",
    "    \n",
    "for category in top_test_F:    \n",
    "    X_test['PHASE_OF_FLIGHT' + '_' + category] = np.where(X_test['PHASE_OF_FLIGHT'] == category, 1, 0)"
   ]
  },
  {
   "cell_type": "code",
   "execution_count": null,
   "metadata": {},
   "outputs": [],
   "source": [
    "X_train['TYPE_ENG'].unique()"
   ]
  },
  {
   "cell_type": "code",
   "execution_count": null,
   "metadata": {},
   "outputs": [],
   "source": [
    "X_train.shape"
   ]
  },
  {
   "cell_type": "code",
   "execution_count": null,
   "metadata": {},
   "outputs": [],
   "source": [
    "#Using Label encoder to encode all categorical feature\n",
    "\n",
    "encoder = LabelEncoder()"
   ]
  },
  {
   "cell_type": "code",
   "execution_count": null,
   "metadata": {},
   "outputs": [],
   "source": [
    "#encoder to transform numerical values into corresponsding labels\n",
    "\"\"\"taking all values with categorical values and one label to each of the unique values\"\"\"\n",
    "\n",
    "df_categ = ['OPERATOR','AIRCRAFT','AIRPORT', 'AC_CLASS','TYPE_ENG','SKY', 'STATE','FAAREGION',\n",
    "            'SIZE', 'MONTH', 'WEEK_DAY','PRECIPITATION']\n",
    "\n",
    "X_train[df_categ] = X_train[df_categ].apply(encoder.fit_transform)\n",
    "X_test[df_categ] = X_test[df_categ].apply(encoder.fit_transform)"
   ]
  },
  {
   "cell_type": "code",
   "execution_count": null,
   "metadata": {},
   "outputs": [],
   "source": [
    "X_train.head()"
   ]
  },
  {
   "cell_type": "code",
   "execution_count": null,
   "metadata": {},
   "outputs": [],
   "source": [
    "X_test.info()"
   ]
  },
  {
   "cell_type": "code",
   "execution_count": null,
   "metadata": {},
   "outputs": [],
   "source": [
    "X_train.drop(['LATITUDE','LONGITUDE','FAAREGION','OPERATOR','SPECIES', 'PHASE_OF_FLIGHT', 'AC_MASS', 'TYPE_ENG'], inplace = True, axis = 1)\n",
    "X_test.drop(['LATITUDE','LONGITUDE','FAAREGION','OPERATOR','SPECIES', 'PHASE_OF_FLIGHT',  'AC_MASS', 'TYPE_ENG'], inplace = True, axis = 1)"
   ]
  },
  {
   "cell_type": "code",
   "execution_count": null,
   "metadata": {},
   "outputs": [],
   "source": [
    "#drop target variable into y_train and y_test\n",
    "\n",
    "y_train = X_train['INDICATED_DAMAGE']\n",
    "X_train = X_train.drop(['INDICATED_DAMAGE'], axis=1)"
   ]
  },
  {
   "cell_type": "code",
   "execution_count": null,
   "metadata": {},
   "outputs": [],
   "source": [
    "X_train.shape"
   ]
  },
  {
   "cell_type": "code",
   "execution_count": null,
   "metadata": {},
   "outputs": [],
   "source": [
    "#Separate the target variable from the dataset\n",
    "\n",
    "y_test = X_test['INDICATED_DAMAGE']\n",
    "X_test= X_test.drop(['INDICATED_DAMAGE'], axis=1)"
   ]
  },
  {
   "cell_type": "code",
   "execution_count": null,
   "metadata": {},
   "outputs": [],
   "source": [
    "X_test.shape"
   ]
  },
  {
   "cell_type": "code",
   "execution_count": null,
   "metadata": {},
   "outputs": [],
   "source": [
    "y_train.shape"
   ]
  },
  {
   "cell_type": "code",
   "execution_count": null,
   "metadata": {},
   "outputs": [],
   "source": [
    "y_test.shape"
   ]
  },
  {
   "cell_type": "markdown",
   "metadata": {},
   "source": [
    "<div class=\"alert alert-info\" style=\"background-color:#006a79; color:white; padding:0px 10px; border-radius:5px;\"><h2 \n",
    "style='margin:10px 5px'>FEATURE SCALING</h2>\n",
    "</div>"
   ]
  },
  {
   "cell_type": "markdown",
   "metadata": {},
   "source": [
    "RobustScaler is used to scale our dataset because it is robust to outliers, as it may not always be a good practice to remove outliers. In such cases, we use RobustScaler of scikit-learn. It removes the median and scales the data according to the quantile range (defaults to IQR: Interquartile Range)."
   ]
  },
  {
   "cell_type": "code",
   "execution_count": null,
   "metadata": {},
   "outputs": [],
   "source": [
    "#import the scikit-learn transformers:\n",
    "from sklearn.preprocessing import StandardScaler, RobustScaler"
   ]
  },
  {
   "cell_type": "code",
   "execution_count": null,
   "metadata": {},
   "outputs": [],
   "source": [
    "\"\"\"set up the StandardScaler() from scikit-learn so that it learns and subtracts the mean but does not divide the result\n",
    "by the standard deviation:\"\"\"\n",
    "\n",
    "scaler_mean = StandardScaler(with_mean=True, with_std=False)"
   ]
  },
  {
   "cell_type": "code",
   "execution_count": null,
   "metadata": {},
   "outputs": [],
   "source": [
    "\"\"\"Next, is to set up the RobustScaler() from scikit-learn so that it does not remove the median from the values but divides them by the value range, that is, the difference between the maximum and minimum values:\n",
    "Specify (0, 100) in the quantile_range argument of RobustScaler() to divide by the difference between the minimum and maximum values,\"\"\"\n",
    "\n",
    "scaler_minmax = RobustScaler(with_centering=False, with_scaling=True, quantile_range=(0, 100))"
   ]
  },
  {
   "cell_type": "code",
   "execution_count": null,
   "metadata": {},
   "outputs": [],
   "source": [
    "#fit the scalers to the train set so that they learn and store the mean, maximum, and minimum values:\n",
    "scaler_mean.fit(X_train)\n",
    "scaler_minmax.fit(X_train)"
   ]
  },
  {
   "cell_type": "markdown",
   "metadata": {},
   "source": [
    "The IQR is the range between the 1st quartile (25th quantile) and the 3rd quartile (75th quantile). RobustScaler does not limit the scaled range by a predetermined interval, like in MinMaxScaler."
   ]
  },
  {
   "cell_type": "code",
   "execution_count": null,
   "metadata": {},
   "outputs": [],
   "source": [
    "#fit the scalers to the train set so that they learn and store the mean, maximum, and minimum values:\n",
    "\n",
    "scaler_mean.transform(X_train)\n",
    "scaler_minmax.transform(X_train) "
   ]
  },
  {
   "cell_type": "code",
   "execution_count": null,
   "metadata": {},
   "outputs": [],
   "source": [
    "scaler_mean.transform(X_test)\n",
    "scaler_minmax.transform(X_test)"
   ]
  },
  {
   "cell_type": "markdown",
   "metadata": {},
   "source": [
    "Fitting the entire dataset to the standard scaler object causes the model to learn about test set. However, models are not supposed to learn anything about test set. It destroys the purpose of train-test split. In general, this issue is called data leakage. This give rise to the reason behind X_test is not being fitted but only transformed."
   ]
  },
  {
   "cell_type": "code",
   "execution_count": null,
   "metadata": {},
   "outputs": [],
   "source": [
    "X_train = pd.DataFrame(scaler_minmax.transform(X_train), columns= ['AIRPORT','STATE','AIRCRAFT','AC_CLASS',\n",
    "'NUM_ENGS','HEIGHT','DISTANCE','SKY','PRECIPITATION','SIZE','HOUR','MINUTES','YEAR','MONTH','WEEK_DAY','SPECIES_Gulls','SPECIES_Mourning dove','SPECIES_Barn swallow',\n",
    "'SPECIES_European starling','SPECIES_Sparrows','PHASE_OF_FLIGHT_Approach','PHASE_OF_FLIGHT_Landing Roll','PHASE_OF_FLIGHT_Take-off Run',\n",
    "'PHASE_OF_FLIGHT_Climb','PHASE_OF_FLIGHT_Descent'])\n",
    "\n",
    "X_test = pd.DataFrame(scaler_minmax.transform(X_test), columns= ['AIRPORT','STATE','AIRCRAFT','AC_CLASS',\n",
    "'NUM_ENGS','HEIGHT','DISTANCE','SKY','PRECIPITATION','SIZE','HOUR','MINUTES','YEAR','MONTH','WEEK_DAY','SPECIES_Gulls','SPECIES_Mourning dove','SPECIES_Barn swallow',\n",
    "'SPECIES_European starling','SPECIES_Sparrows','PHASE_OF_FLIGHT_Approach','PHASE_OF_FLIGHT_Landing Roll','PHASE_OF_FLIGHT_Take-off Run',\n",
    "'PHASE_OF_FLIGHT_Climb','PHASE_OF_FLIGHT_Descent'])"
   ]
  },
  {
   "cell_type": "code",
   "execution_count": null,
   "metadata": {},
   "outputs": [],
   "source": [
    "X_train.head()"
   ]
  },
  {
   "cell_type": "code",
   "execution_count": null,
   "metadata": {},
   "outputs": [],
   "source": [
    "y_train.unique()"
   ]
  },
  {
   "cell_type": "markdown",
   "metadata": {},
   "source": [
    "<div class=\"alert alert-info\" style=\"background-color:#006a79; color:white; padding:0px 10px; border-radius:5px;\"><h2 \n",
    "style='margin:10px 5px'>DETECTING OUTLIERS</h2>\n",
    "</div>"
   ]
  },
  {
   "cell_type": "code",
   "execution_count": null,
   "metadata": {},
   "outputs": [],
   "source": [
    "#Boxplot to examine outlier for column height\n",
    "sns.boxplot(y=X_train['HEIGHT'])\n",
    "plt.title('Boxplot')"
   ]
  },
  {
   "cell_type": "code",
   "execution_count": null,
   "metadata": {
    "scrolled": true
   },
   "outputs": [],
   "source": [
    "#Boxplot to examine outlier for column height\n",
    "sns.boxplot(y=X_train['DISTANCE'])\n",
    "plt.title('Boxplot')"
   ]
  },
  {
   "cell_type": "code",
   "execution_count": null,
   "metadata": {},
   "outputs": [],
   "source": [
    "#function to winsorize a variable to arbitrary upper and lower limits:\n",
    "def winsorize(df, variable, upper_limit, lower_limit):\n",
    "    return np.where(df[variable] > upper_limit, upper_limit, \n",
    "                np.where(df[variable] < lower_limit, lower_limit, df[variable]))\n",
    "\n"
   ]
  },
  {
   "cell_type": "code",
   "execution_count": null,
   "metadata": {},
   "outputs": [],
   "source": [
    "#winsorize the DISTANCE variable:\n",
    "X_train['DISTANCE']= winsorize(X_train, 'DISTANCE', X_train['DISTANCE'].quantile(0.95), X_train['DISTANCE'].quantile(0.05))\n",
    "X_test['DISTANCE']= winsorize(X_test, 'DISTANCE', X_test['DISTANCE'].quantile(0.95), X_test['DISTANCE'].quantile(0.05))"
   ]
  },
  {
   "cell_type": "code",
   "execution_count": null,
   "metadata": {},
   "outputs": [],
   "source": [
    "X_train['DISTANCE'].quantile(0.95)\n",
    "X_test['DISTANCE'].quantile(0.95)"
   ]
  },
  {
   "cell_type": "code",
   "execution_count": null,
   "metadata": {},
   "outputs": [],
   "source": [
    "X_train['DISTANCE'].quantile(0.05)\n",
    "X_test['DISTANCE'].quantile(0.05)"
   ]
  },
  {
   "cell_type": "code",
   "execution_count": null,
   "metadata": {},
   "outputs": [],
   "source": [
    "# winsorize the HEIGHT variable:\n",
    "X_train['HEIGHT']= winsorize(X_train, 'HEIGHT', X_train['HEIGHT'].quantile(0.95), X_train['HEIGHT'].quantile(0.05))\n",
    "X_test['HEIGHT']= winsorize(X_test, 'HEIGHT', X_test['HEIGHT'].quantile(0.95), X_test['HEIGHT'].quantile(0.05))"
   ]
  },
  {
   "cell_type": "code",
   "execution_count": null,
   "metadata": {},
   "outputs": [],
   "source": [
    "X_train['HEIGHT'].quantile(0.95)\n",
    "X_test['HEIGHT'].quantile(0.95)"
   ]
  },
  {
   "cell_type": "code",
   "execution_count": null,
   "metadata": {},
   "outputs": [],
   "source": [
    "X_train['HEIGHT'].quantile(0.05)\n",
    "X_test['HEIGHT'].quantile(0.05)"
   ]
  },
  {
   "cell_type": "code",
   "execution_count": null,
   "metadata": {},
   "outputs": [],
   "source": [
    "X_train.tail(15)"
   ]
  },
  {
   "cell_type": "code",
   "execution_count": null,
   "metadata": {},
   "outputs": [],
   "source": [
    "#Boxplot to examine outlier for column height\n",
    "sns.boxplot(y=X_train['DISTANCE'])\n",
    "plt.title('Boxplot')"
   ]
  },
  {
   "cell_type": "code",
   "execution_count": null,
   "metadata": {},
   "outputs": [],
   "source": [
    "#Boxplot to examine outlier for column height\n",
    "sns.boxplot(y=X_train['HEIGHT'])\n",
    "plt.title('Boxplot')"
   ]
  },
  {
   "cell_type": "code",
   "execution_count": null,
   "metadata": {},
   "outputs": [],
   "source": []
  },
  {
   "cell_type": "markdown",
   "metadata": {},
   "source": [
    "<div class=\"alert alert-info\" style=\"background-color:#006a79; color:white; padding:0px 10px; border-radius:5px;\"><h2 \n",
    "style='margin:10px 5px'>FEATURE SELECTION</h2>\n",
    "</div>"
   ]
  },
  {
   "cell_type": "markdown",
   "metadata": {},
   "source": [
    "To carry out feature selection, the train_test_split will be joined together as a single dataset"
   ]
  },
  {
   "cell_type": "code",
   "execution_count": null,
   "metadata": {},
   "outputs": [],
   "source": [
    "#Concatenating the data in df variable\n",
    "\n",
    "bird_strike_new =pd.concat([X_train, X_test],sort=False,ignore_index=True)\n",
    "bird_strike_new "
   ]
  },
  {
   "cell_type": "code",
   "execution_count": null,
   "metadata": {},
   "outputs": [],
   "source": [
    "bird_strike_y =pd.concat([y_train, y_test],sort=False,ignore_index=True)\n",
    "bird_strike_y "
   ]
  },
  {
   "cell_type": "code",
   "execution_count": null,
   "metadata": {},
   "outputs": [],
   "source": [
    "bird_strike_new.shape"
   ]
  },
  {
   "cell_type": "code",
   "execution_count": null,
   "metadata": {},
   "outputs": [],
   "source": [
    "bird_strike_y.shape"
   ]
  },
  {
   "cell_type": "code",
   "execution_count": null,
   "metadata": {},
   "outputs": [],
   "source": [
    "bird_strike_new['YEAR']"
   ]
  },
  {
   "cell_type": "code",
   "execution_count": null,
   "metadata": {},
   "outputs": [],
   "source": [
    "#Drop the year column\n",
    "bird_strike_new.drop(['YEAR'], inplace = True, axis= 1)"
   ]
  },
  {
   "cell_type": "code",
   "execution_count": null,
   "metadata": {},
   "outputs": [],
   "source": [
    "bird_strike_new.shape"
   ]
  },
  {
   "cell_type": "code",
   "execution_count": null,
   "metadata": {},
   "outputs": [],
   "source": [
    "bird_strike_y.value_counts()"
   ]
  },
  {
   "cell_type": "markdown",
   "metadata": {},
   "source": [
    "<div class=\"alert alert-info\" style=\"background-color:#006a79; color:white; padding:0px 10px; border-radius:5px;\"><h2 \n",
    "style='margin:10px 5px'>FEATURE IMPORTANCE</h2>\n",
    "</div>"
   ]
  },
  {
   "cell_type": "code",
   "execution_count": null,
   "metadata": {},
   "outputs": [],
   "source": [
    "from sklearn.feature_selection import RFE #Recursive Feature Elimination\n",
    "from mlxtend.feature_selection import SequentialFeatureSelector #Sequential Feature Selection\n",
    "from sklearn.ensemble import RandomForestClassifier #Random Forest for Feature Selection\n",
    "\n",
    "from sklearn.metrics import confusion_matrix\n",
    "from sklearn.linear_model import LogisticRegression\n",
    "from sklearn.metrics import accuracy_score\n",
    "from sklearn.tree import DecisionTreeClassifier\n",
    "\n",
    "from sklearn.feature_selection import SelectKBest,mutual_info_classif"
   ]
  },
  {
   "cell_type": "markdown",
   "metadata": {},
   "source": [
    "##### Considering Decision Tree Classifier"
   ]
  },
  {
   "cell_type": "code",
   "execution_count": null,
   "metadata": {},
   "outputs": [],
   "source": [
    "#Using decision tree classifier feature importance\n",
    "decision_tree = DecisionTreeClassifier(max_depth = 5)\n",
    "decision_tree.fit(bird_strike_new, bird_strike_y)"
   ]
  },
  {
   "cell_type": "code",
   "execution_count": null,
   "metadata": {},
   "outputs": [],
   "source": [
    "predictors = bird_strike_new.columns\n",
    "\n",
    "coef = pd.Series(decision_tree.feature_importances_, predictors).sort_values()\n",
    "print(coef)"
   ]
  },
  {
   "cell_type": "code",
   "execution_count": null,
   "metadata": {},
   "outputs": [],
   "source": [
    "#Get the Top 10 features\n",
    "plt.figure(num=None, figsize=(8,6), dpi=80, facecolor='w', edgecolor='k')\n",
    "plt.title(\"Top Important 15 Features that can Help Predict Birdstrike Collision\")\n",
    "\n",
    "feat_importances = pd.Series(decision_tree.feature_importances_, index= bird_strike_new.columns)\n",
    "\n",
    "feat_importances.nlargest(15).plot(kind='barh')"
   ]
  },
  {
   "cell_type": "markdown",
   "metadata": {},
   "source": [
    "##### Considering Random Forest Classifier "
   ]
  },
  {
   "cell_type": "code",
   "execution_count": null,
   "metadata": {},
   "outputs": [],
   "source": [
    "feature_selector = SequentialFeatureSelector(RandomForestClassifier(n_estimators = 10),\n",
    "                                             k_features = 15,\n",
    "                                             forward = False, #forward selection\n",
    "                                             scoring = \"accuracy\", # to score the classifier performanace\n",
    "                                             cv = 4) #using training data for training and testing at same time\n",
    "\n",
    "#CV means cross validation which uses available training data to inform your model,\n",
    "#while also using that data to make predictions on how well the model will be able to predict outcomes on new data."
   ]
  },
  {
   "cell_type": "code",
   "execution_count": null,
   "metadata": {},
   "outputs": [],
   "source": [
    "features = feature_selector.fit(np.array(bird_strike_new), bird_strike_y)"
   ]
  },
  {
   "cell_type": "code",
   "execution_count": null,
   "metadata": {},
   "outputs": [],
   "source": [
    "#Get the relevant variable\n",
    "forward_feature_names = list(bird_strike_new.columns[list(features.k_feature_idx_)])\n",
    "\n",
    "forward_feature_names"
   ]
  },
  {
   "cell_type": "code",
   "execution_count": null,
   "metadata": {},
   "outputs": [],
   "source": [
    "#View the selected features\n",
    "forward_features = bird_strike_new[forward_feature_names]\n",
    "\n",
    "forward_features.head()"
   ]
  },
  {
   "cell_type": "code",
   "execution_count": null,
   "metadata": {},
   "outputs": [],
   "source": [
    "#finding correlation between target variable and other features\n",
    "plt.figure(figsize=(20,10))\n",
    "sns.heatmap(forward_features.corr(),annot=True)"
   ]
  },
  {
   "cell_type": "markdown",
   "metadata": {},
   "source": [
    "##### Considering Mutual Information Classifier "
   ]
  },
  {
   "cell_type": "code",
   "execution_count": null,
   "metadata": {},
   "outputs": [],
   "source": [
    "from sklearn.feature_selection import mutual_info_classif\n",
    "mutual_info = mutual_info_classif( bird_strike_new, bird_strike_y)\n",
    "mutual_info"
   ]
  },
  {
   "cell_type": "code",
   "execution_count": null,
   "metadata": {},
   "outputs": [],
   "source": [
    "mutual_info = pd.Series(mutual_info)\n",
    "mutual_info.index = bird_strike_new.columns\n",
    "mutual_info.sort_values(ascending=False)"
   ]
  },
  {
   "cell_type": "code",
   "execution_count": null,
   "metadata": {},
   "outputs": [],
   "source": [
    "mutual_info.sort_values(ascending=False).plot.bar(figsize=(20, 8))"
   ]
  },
  {
   "cell_type": "markdown",
   "metadata": {},
   "source": [
    "The first ten features selected does not include the species of bird, which is one of the essential features for our predictions, as a result the number of features to be selected is increased to fifteen features"
   ]
  },
  {
   "cell_type": "markdown",
   "metadata": {},
   "source": [
    "##### Considering Mutual Information Classifier using KBest"
   ]
  },
  {
   "cell_type": "code",
   "execution_count": null,
   "metadata": {},
   "outputs": [],
   "source": [
    "#To select the top best 15 feature, using kbest\n",
    "\n",
    "from sklearn.feature_selection import SelectKBest\n",
    "sel_15_cols = SelectKBest(mutual_info_classif, k=15)\n",
    "sel_15_cols.fit(bird_strike_new, bird_strike_y)\n",
    "bird_strike_new.columns[sel_15_cols.get_support()]"
   ]
  },
  {
   "cell_type": "markdown",
   "metadata": {},
   "source": [
    "The top ten features selected does not include the species of bird, which is one of the essential features for our predictions, as a result the number of features to be selected is increased to fifteen features. So these are the top fifteen features that give the most important information about the target variable.\n",
    "\n",
    "Also, considering all the Feature Selection presented here, it is noteworthy that Mutual information Classifier using KBEST, selected substantial features than other feature selection techniques. Therefore, this techniques output is fed into the Machine Learning models as given below."
   ]
  },
  {
   "cell_type": "code",
   "execution_count": null,
   "metadata": {},
   "outputs": [],
   "source": [
    "#Subset out the identified importance 15 features\n",
    "Best_birdstrike_features= bird_strike_new[['AIRPORT', 'STATE', 'AIRCRAFT', 'NUM_ENGS', 'HEIGHT','DISTANCE',\n",
    "                                         'SKY', 'SIZE', 'HOUR', 'MONTH', 'SPECIES_Mourning dove','SPECIES_Barn swallow',\n",
    "                                         'PHASE_OF_FLIGHT_Landing Roll','PHASE_OF_FLIGHT_Climb']]"
   ]
  },
  {
   "cell_type": "code",
   "execution_count": null,
   "metadata": {},
   "outputs": [],
   "source": [
    "Best_birdstrike_features.plot.hist(figsize=(12, 10), edgecolor=\"black\")\n",
    "#Best_birdstrike_features.plot.bar(figsize=(20, 8))"
   ]
  },
  {
   "cell_type": "markdown",
   "metadata": {},
   "source": [
    "#### Splitting of the bird_strike_new into train_test_split"
   ]
  },
  {
   "cell_type": "code",
   "execution_count": null,
   "metadata": {},
   "outputs": [],
   "source": [
    "import numpy as np, pandas as pd, matplotlib.pyplot as plt \n",
    "import pydotplus\n",
    "from sklearn import tree, metrics, model_selection, preprocessing\n",
    "from IPython.display import Image, display\n",
    "#from utils import plot_decision\n",
    "\n",
    "from sklearn.metrics import confusion_matrix\n",
    "from sklearn.linear_model import LogisticRegression\n",
    "from sklearn.neighbors import KNeighborsClassifier\n",
    "from sklearn.metrics import accuracy_score\n",
    "from sklearn.tree import DecisionTreeClassifier\n",
    "from sklearn.model_selection import RepeatedStratifiedKFold\n",
    "from sklearn.model_selection import RepeatedKFold\n",
    "from sklearn.model_selection import GridSearchCV\n",
    "from sklearn.metrics import classification_report\n",
    "from collections import OrderedDict"
   ]
  },
  {
   "cell_type": "code",
   "execution_count": null,
   "metadata": {},
   "outputs": [],
   "source": [
    "# split data randomly into 70% training and 30% test\n",
    "X_train, X_test, y_train, y_test = model_selection.train_test_split(Best_birdstrike_features, bird_strike_y, \n",
    "                                                                    test_size=0.3, random_state=0)"
   ]
  },
  {
   "cell_type": "code",
   "execution_count": null,
   "metadata": {},
   "outputs": [],
   "source": [
    "X_train.shape"
   ]
  },
  {
   "cell_type": "code",
   "execution_count": null,
   "metadata": {},
   "outputs": [],
   "source": [
    "X_test.shape"
   ]
  },
  {
   "cell_type": "code",
   "execution_count": null,
   "metadata": {},
   "outputs": [],
   "source": [
    "y_train.shape"
   ]
  },
  {
   "cell_type": "code",
   "execution_count": null,
   "metadata": {},
   "outputs": [],
   "source": [
    "y_test.shape"
   ]
  },
  {
   "cell_type": "markdown",
   "metadata": {},
   "source": [
    "### Balancing of the Target Variable by Upsampling of Majority and Minority Class"
   ]
  },
  {
   "cell_type": "code",
   "execution_count": null,
   "metadata": {
    "scrolled": true
   },
   "outputs": [],
   "source": [
    "# We show the composition of the target variable for the training data. The target variable is not balance.\n",
    "train_labels=bird_strike_y.to_frame()\n",
    "sns.countplot(x='INDICATED_DAMAGE', data=train_labels)\n",
    "plt.show()"
   ]
  },
  {
   "cell_type": "code",
   "execution_count": null,
   "metadata": {},
   "outputs": [],
   "source": [
    "### Balancing of the Target Variable by Upsampling of Majority and Minority Class"
   ]
  },
  {
   "cell_type": "code",
   "execution_count": null,
   "metadata": {},
   "outputs": [],
   "source": [
    "#Concatenate y_train and X_train to apply balancin.\n",
    "bird_strike_bal = pd.concat([bird_strike_y, bird_strike_new], axis=1)\n",
    "bird_strike_bal.shape"
   ]
  },
  {
   "cell_type": "code",
   "execution_count": null,
   "metadata": {},
   "outputs": [],
   "source": [
    "#import resample() library from sklearn\n",
    "\n",
    "from sklearn.utils import resample"
   ]
  },
  {
   "cell_type": "code",
   "execution_count": null,
   "metadata": {},
   "outputs": [],
   "source": [
    "df_majority = bird_strike_bal[bird_strike_bal.INDICATED_DAMAGE==0]\n",
    "df_minority = bird_strike_bal[bird_strike_bal.INDICATED_DAMAGE==1]\n",
    "\n",
    "# Upsample minority class == 1\n",
    "df_minority_upsampled = resample(df_minority, \n",
    "                                 replace=True,     # sample with replacement\n",
    "                                 n_samples=60557,  # to match majority class\n",
    "                                 random_state=123) \n",
    "\n",
    "# Combine majority class with upsampled minority class\n",
    "df_upsampled = pd.concat([df_majority, df_minority_upsampled])\n",
    "\n",
    "#Plot the new balanced target of training data\n",
    "sns.countplot(x= 'INDICATED_DAMAGE', data=df_upsampled) "
   ]
  },
  {
   "cell_type": "code",
   "execution_count": null,
   "metadata": {},
   "outputs": [],
   "source": [
    "# The final size of the upsampled data\n",
    "df_upsampled.shape"
   ]
  },
  {
   "cell_type": "code",
   "execution_count": null,
   "metadata": {},
   "outputs": [],
   "source": [
    "#finding correlation between target variable and other features\n",
    "plt.figure(figsize=(20,10))\n",
    "sns.heatmap(df_upsampled.corr(),annot=True)"
   ]
  },
  {
   "cell_type": "markdown",
   "metadata": {},
   "source": [
    "Checking the correlation of the features with the target variable, it was discovered that Height and Distance are highly correlated with 0.98, which is not good for our modeling, thus the two columns are dropped, before going further as shown below"
   ]
  },
  {
   "cell_type": "code",
   "execution_count": null,
   "metadata": {},
   "outputs": [],
   "source": [
    "df_upsampled.drop(['HEIGHT', 'DISTANCE'], inplace= True,  axis= 1)"
   ]
  },
  {
   "cell_type": "code",
   "execution_count": null,
   "metadata": {},
   "outputs": [],
   "source": [
    "#Visual Correlation\n",
    "correlation = df_upsampled.corr()\n",
    "plt.figure(figsize=(20, 20))\n",
    "sns.heatmap(correlation, vmax=1, square=True,annot=True,cmap='viridis')\n",
    "\n",
    "plt.title('Correlation between Different Fearures', size= 18)"
   ]
  },
  {
   "cell_type": "code",
   "execution_count": null,
   "metadata": {},
   "outputs": [],
   "source": [
    "#Final Balanced Training Label (Target)\n",
    "y_train_balanced = df_upsampled[\"INDICATED_DAMAGE\"] \n",
    "y_train_balanced"
   ]
  },
  {
   "cell_type": "code",
   "execution_count": null,
   "metadata": {},
   "outputs": [],
   "source": [
    "# Final training features\n",
    "X_train_new = df_upsampled.drop([\"INDICATED_DAMAGE\"], axis = 1)\n",
    "X_train_new"
   ]
  },
  {
   "cell_type": "code",
   "execution_count": null,
   "metadata": {},
   "outputs": [],
   "source": [
    "#Confirmation of balanced training label to avoid bias in the machine learning training phase\n",
    "y_train_balanced.value_counts()"
   ]
  },
  {
   "cell_type": "markdown",
   "metadata": {},
   "source": [
    "<div class=\"alert alert-info\" style=\"background-color:#006a79; color:white; padding:0px 10px; border-radius:5px;\"><h2 \n",
    "style='margin:10px 5px'>BUILDING MACHINE LEARNING MODEL</h2>\n",
    "</div>"
   ]
  },
  {
   "cell_type": "markdown",
   "metadata": {},
   "source": [
    "### Decision Tree Training Model"
   ]
  },
  {
   "cell_type": "code",
   "execution_count": null,
   "metadata": {},
   "outputs": [],
   "source": [
    "# train the decision tree\n",
    "dt_model = tree.DecisionTreeClassifier(criterion='entropy', max_depth=3)\n",
    "dt_model.fit(X_train, y_train)"
   ]
  },
  {
   "cell_type": "markdown",
   "metadata": {},
   "source": [
    "### Decision Tree Testing Model "
   ]
  },
  {
   "cell_type": "code",
   "execution_count": null,
   "metadata": {},
   "outputs": [],
   "source": [
    "y_pred = dt_model.predict(X_test)"
   ]
  },
  {
   "cell_type": "code",
   "execution_count": null,
   "metadata": {},
   "outputs": [],
   "source": [
    "#Set up a function for Confusion Matrix\n",
    "def CMatrix(CM, labels={\"No BirdStrike\":0,\"BirdStrike\": 1}):\n",
    "    df = pd.DataFrame(data=CM, index=labels, columns=labels)\n",
    "    df.index.name='ACTUAL'\n",
    "    df.columns.name='PREDICTION'\n",
    "    df.loc['Total'] = df.sum()\n",
    "    df['Total'] = df.sum(axis=1)\n",
    "    return df"
   ]
  },
  {
   "cell_type": "code",
   "execution_count": null,
   "metadata": {},
   "outputs": [],
   "source": [
    "accuracy = metrics.accuracy_score(y_test, y_pred)\n",
    "print('Accuracy: {:.2f}'.format(accuracy))"
   ]
  },
  {
   "cell_type": "code",
   "execution_count": null,
   "metadata": {},
   "outputs": [],
   "source": [
    "from sklearn.metrics import classification_report, confusion_matrix\n",
    "cm_dt = confusion_matrix(y_test, y_pred)\n",
    "cm_dt_c= print(classification_report(y_test, y_pred))"
   ]
  },
  {
   "cell_type": "code",
   "execution_count": null,
   "metadata": {},
   "outputs": [],
   "source": [
    "CMatrix(cm_dt)"
   ]
  },
  {
   "cell_type": "code",
   "execution_count": null,
   "metadata": {},
   "outputs": [],
   "source": [
    "tn, fp, fn, tp = confusion_matrix(y_test, y_pred).ravel()\n",
    "(tn, fp, fn, tp)"
   ]
  },
  {
   "cell_type": "code",
   "execution_count": null,
   "metadata": {},
   "outputs": [],
   "source": [
    "#Tree Analysis\n",
    "\n",
    "#Visualize the tree and lets study the decision process\n",
    "plt.figure(figsize=(14,14))  # set plot size (denoted in inches)\n",
    "tree.plot_tree(dt_model, fontsize=12)\n",
    "plt.show()"
   ]
  },
  {
   "cell_type": "markdown",
   "metadata": {},
   "source": [
    "<div class=\"alert alert-info\" style=\"background-color:#006a79; color:white; padding:0px 10px; border-radius:5px;\"><h2 style='margin:10px 5px'>Bird Strike Prediction using Logistic Regression</h2>\n",
    "</div> "
   ]
  },
  {
   "cell_type": "markdown",
   "metadata": {},
   "source": [
    "<div class=\"alert alert-info\" style=\"background-color:#006a79; color:white; padding:0px 10px; border-radius:5px;\"><h2 style='margin:10px 5px'>Hyperparameter Tunning for Logistic Regression</h2>\n",
    "</div>"
   ]
  },
  {
   "cell_type": "code",
   "execution_count": null,
   "metadata": {},
   "outputs": [],
   "source": [
    "# Hyperparameter Tunning for Logistic Regression\n",
    "lr_model = LogisticRegression()\n",
    "solvers = ['newton-cg', 'lbfgs', 'liblinear']\n",
    "penalty = ['l2']\n",
    "c_values = [100, 10, 1.0, 0.1, 0.01]\n",
    "\n",
    "# define grid search\n",
    "grid = dict(solver=solvers,penalty=penalty,C=c_values)\n",
    "cv = RepeatedKFold(n_splits=10, n_repeats=3, random_state=1)\n",
    "grid_search = GridSearchCV(estimator=lr_model, param_grid=grid, n_jobs=-1, cv=cv, scoring='accuracy',error_score=0)\n",
    "grid_result = grid_search.fit(X_train, y_train)\n",
    "\n",
    "# summarize results\n",
    "print(\"Best: %f using %s\" % (grid_result.best_score_, grid_result.best_params_))\n",
    "means = grid_result.cv_results_['mean_test_score']\n",
    "stds = grid_result.cv_results_['std_test_score']\n",
    "params = grid_result.cv_results_['params']\n",
    "for mean, stdev, param in zip(means, stds, params):\n",
    "    print(\"%f (%f) with: %r\" % (mean, stdev, param))"
   ]
  },
  {
   "cell_type": "code",
   "execution_count": null,
   "metadata": {},
   "outputs": [],
   "source": [
    "# 1. Applying the Best Hyperparameter Tunning\n",
    "logistic_regression = LogisticRegression(C=0.01,penalty=\"l2\",solver=\"liblinear\")\n",
    "\n",
    "# 2. Using the trainning data to train the estimator (logistics Regression)\n",
    "logistic_regression.fit(X_train, y_train)\n",
    "\n",
    "# 3. Evaluating the model by predicting the test data\n",
    "y_pred_test = logistic_regression.predict(X_test)"
   ]
  },
  {
   "cell_type": "code",
   "execution_count": null,
   "metadata": {},
   "outputs": [],
   "source": [
    "# y_pred_test of the trained logistic model will now be compared\n",
    "#with the ground truth (y_test).\n",
    "y_test"
   ]
  },
  {
   "cell_type": "code",
   "execution_count": null,
   "metadata": {},
   "outputs": [],
   "source": [
    "#Set up a function for Confusion Matrix\n",
    "def CMatrix(CM, labels={\"No BirdStrike\":0,\"BirdStrike\": 1,}):\n",
    "    df = pd.DataFrame(data=CM, index=labels, columns=labels)\n",
    "    df.index.name='TRUE'\n",
    "    df.columns.name='PREDICTION'\n",
    "    df.loc['Total'] = df.sum()\n",
    "    df['Total'] = df.sum(axis=1)\n",
    "    return df"
   ]
  },
  {
   "cell_type": "code",
   "execution_count": null,
   "metadata": {},
   "outputs": [],
   "source": [
    "CM = confusion_matrix(y_pred_test,y_test)"
   ]
  },
  {
   "cell_type": "code",
   "execution_count": null,
   "metadata": {},
   "outputs": [],
   "source": [
    "CMatrix(CM)"
   ]
  },
  {
   "cell_type": "code",
   "execution_count": null,
   "metadata": {},
   "outputs": [],
   "source": [
    "tn, fp, fn, tp = confusion_matrix(y_test,y_pred_test).ravel()\n",
    "(tn, fp, fn, tp)"
   ]
  },
  {
   "cell_type": "code",
   "execution_count": null,
   "metadata": {},
   "outputs": [],
   "source": [
    "# classification report for precision, recall f1-score and accuracy\n",
    "matrix = classification_report(y_test,y_pred_test)\n",
    "print('Classification Report : \\n',matrix)"
   ]
  },
  {
   "cell_type": "code",
   "execution_count": null,
   "metadata": {},
   "outputs": [],
   "source": [
    "from sklearn.metrics import precision_score, recall_score, f1_score, accuracy_score\n",
    "\n",
    "print('Precision: %.3f' % precision_score(y_test, y_pred_test))\n",
    "print('Recall: %.3f' % recall_score(y_test, y_pred_test))\n",
    "print('Accuracy: %.3f' % accuracy_score(y_test, y_pred_test))\n",
    "print('F1-Score: %.3f' % f1_score(y_test, y_pred_test))"
   ]
  },
  {
   "cell_type": "markdown",
   "metadata": {},
   "source": [
    "The result of this logistic Regression model confusion matrix reveal that the possibility of bird strike occurence is with 0.63 precision, the recall 0f 0.13, with f1-score of 0.22. The accuracy of the bird strike occurence is 88%. \n",
    "\n",
    "**Thus, this will informed the dcision of the stakeholders of what measure to put in place, seeing that there is high possibility/or probabality that bird strike would occur."
   ]
  },
  {
   "cell_type": "code",
   "execution_count": null,
   "metadata": {},
   "outputs": [],
   "source": [
    "# Creating the confusion matrix graphs\n",
    "\n",
    "cf_train_matrix = confusion_matrix(y_test, y_pred_test)\n",
    "plt.figure(figsize=(10,5))\n",
    "sns.heatmap(cf_train_matrix, annot=True, fmt='d')"
   ]
  },
  {
   "cell_type": "code",
   "execution_count": null,
   "metadata": {},
   "outputs": [],
   "source": []
  },
  {
   "cell_type": "markdown",
   "metadata": {},
   "source": [
    "<div class=\"alert alert-info\" style=\"background-color:#006a79; color:white; padding:0px 10px; border-radius:5px;\"><h2 style='margin:10px 5px'>Bird Strike Prdiction using K-Nearest Neighbour (KNN)</h2>\n",
    "</div> "
   ]
  },
  {
   "cell_type": "code",
   "execution_count": null,
   "metadata": {},
   "outputs": [],
   "source": [
    "from sklearn.multiclass import OneVsRestClassifier\n",
    "from sklearn.datasets import make_classification\n",
    "# 3-class Classification\n",
    "X, y = make_classification(1000, n_features=10, n_redundant=0, n_informative=2, \n",
    "                           n_clusters_per_class=1, n_classes=3)\n",
    "\n",
    "knn_model = KNeighborsClassifier()\n",
    "knn_model.fit(X_train, y_train)\n",
    "\n",
    "y_predict = knn_model.predict(X_test)"
   ]
  },
  {
   "cell_type": "code",
   "execution_count": null,
   "metadata": {},
   "outputs": [],
   "source": [
    "# Measuring the accuracy of our model\n",
    "from sklearn.metrics import accuracy_score\n",
    "print(accuracy_score(y_test, y_predict))\n"
   ]
  },
  {
   "cell_type": "code",
   "execution_count": null,
   "metadata": {},
   "outputs": [],
   "source": [
    "from sklearn.metrics import classification_report, confusion_matrix\n",
    "print(confusion_matrix(y_test, y_predict))\n",
    "print(classification_report(y_test, y_predict))"
   ]
  },
  {
   "cell_type": "code",
   "execution_count": null,
   "metadata": {},
   "outputs": [],
   "source": [
    "# Creating the confusion matrix graphs\n",
    "import seaborn as sns\n",
    "from matplotlib import pyplot as plt\n",
    "cf_train_matrix = confusion_matrix(y_test, y_predict)\n",
    "plt.figure(figsize=(10,5))\n",
    "sns.heatmap(cf_train_matrix, annot=True, fmt='d')"
   ]
  },
  {
   "cell_type": "markdown",
   "metadata": {},
   "source": [
    "<div class=\"alert alert-info\" style=\"background-color:#006a79; color:white; padding:0px 10px; border-radius:5px;\"><h2 style='margin:10px 5px'>Bird Strike Prediction using NAIVE BAYES</h2>\n",
    "</div>"
   ]
  },
  {
   "cell_type": "code",
   "execution_count": null,
   "metadata": {},
   "outputs": [],
   "source": [
    "from sklearn.naive_bayes import BernoulliNB\n",
    "from sklearn.model_selection import train_test_split\n",
    "\n",
    "bnb_model = BernoulliNB(binarize=0.0)\n",
    "bnb_model.fit(X_train, y_train)\n",
    "score =bnb_model.score(X_test, y_test)"
   ]
  },
  {
   "cell_type": "code",
   "execution_count": null,
   "metadata": {},
   "outputs": [],
   "source": [
    "#Predict the response for test dataset\n",
    "y_prediction = bnb_model.predict(X_test)"
   ]
  },
  {
   "cell_type": "code",
   "execution_count": null,
   "metadata": {},
   "outputs": [],
   "source": [
    "cm = confusion_matrix(y_test, y_prediction) \n",
    "cm"
   ]
  },
  {
   "cell_type": "code",
   "execution_count": null,
   "metadata": {},
   "outputs": [],
   "source": [
    "from sklearn.metrics import classification_report, confusion_matrix\n",
    "print(classification_report(y_test, y_prediction))"
   ]
  },
  {
   "cell_type": "code",
   "execution_count": null,
   "metadata": {},
   "outputs": [],
   "source": [
    "plt.figure(figsize=(9,9))\n",
    "sns.heatmap(cm, annot=True, fmt=\".3f\", linewidths=.5, square = True, cmap = 'Blues_r'); #formating style of the confusion matrix visualization\n",
    "plt.ylabel('Actual label');\n",
    "plt.xlabel('Predicted label');\n",
    "all_sample_title = 'Accuracy Score: {0}'.format(score)\n",
    "plt.title(all_sample_title, size = 15);"
   ]
  },
  {
   "cell_type": "code",
   "execution_count": null,
   "metadata": {},
   "outputs": [],
   "source": []
  },
  {
   "cell_type": "markdown",
   "metadata": {},
   "source": [
    "<div class=\"alert alert-info\" style=\"background-color:#006a79; color:white; padding:0px 10px; border-radius:5px;\"><h2 style='margin:10px 5px'>Bird Strike Prediction using Support Vector Machine</h2>\n",
    "</div>"
   ]
  },
  {
   "cell_type": "code",
   "execution_count": null,
   "metadata": {},
   "outputs": [],
   "source": [
    "#Import svm model\n",
    "from sklearn import svm\n",
    "\n",
    "#Create a svm Classifier\n",
    "svm_model = svm.SVC(kernel='linear') # Linear Kernel\n",
    "\n",
    "#Train the model using the training sets\n",
    "svm_model.fit(X_train, y_train)\n",
    "\n",
    "#Predict the response for test dataset\n",
    "y_preds = svm_model.predict(X_test)"
   ]
  },
  {
   "cell_type": "markdown",
   "metadata": {},
   "source": [
    "Evaluating the Model estimation of how accurate the classifier or model can predict the bird strike occurence and indicate damage.\n",
    "\n",
    "Accuracy is computed by comparing actual test set values and predicted values."
   ]
  },
  {
   "cell_type": "code",
   "execution_count": null,
   "metadata": {},
   "outputs": [],
   "source": [
    "#Import scikit-learn metrics module for accuracy calculation\n",
    "\n",
    "#Model Accuracy: how often is the classifier correct?\n",
    "\n",
    "print(\"Accuracy:\",metrics.accuracy_score(y_test, y_preds))"
   ]
  },
  {
   "cell_type": "code",
   "execution_count": null,
   "metadata": {},
   "outputs": [],
   "source": [
    "confusion_matrix(y_test, y_preds)"
   ]
  },
  {
   "cell_type": "code",
   "execution_count": null,
   "metadata": {},
   "outputs": [],
   "source": [
    "# Creating the confusion matrix graphs\n",
    "\n",
    "cf_train_matrix = confusion_matrix(y_test, y_preds)\n",
    "plt.figure(figsize=(10,5))\n",
    "sns.heatmap(cf_train_matrix, annot=True, fmt='d')"
   ]
  },
  {
   "cell_type": "code",
   "execution_count": null,
   "metadata": {},
   "outputs": [],
   "source": [
    "#Evaluation based on precision and recall of model.\n",
    "\n",
    "# Model Precision: what percentage of positive tuples are labeled as such?\n",
    "print(\"Precision:\",metrics.precision_score(y_test, y_preds))\n",
    "\n",
    "# Model Recall: what percentage of positive tuples are labelled as such?\n",
    "print(\"Recall:\",metrics.recall_score(y_test, y_preds))"
   ]
  },
  {
   "cell_type": "code",
   "execution_count": null,
   "metadata": {},
   "outputs": [],
   "source": [
    "from sklearn.metrics import classification_report, confusion_matrix\n",
    "print(classification_report(y_test, y_preds))"
   ]
  },
  {
   "cell_type": "markdown",
   "metadata": {},
   "source": [
    "SVM Classifiers offer good accuracy and perform faster prediction compared to Naïve Bayes algorithm. They also use less memory because they use a subset of training points in the decision phase. SVM works well with a clear margin of separation and with high dimensional space.\n",
    "\n",
    "Disadvantages SVM is not suitable for large datasets because of its high training time and it also takes more time in training compared to Naïve Bayes. It works poorly with overlapping classes and is also sensitive to the type of kernel used"
   ]
  },
  {
   "cell_type": "markdown",
   "metadata": {},
   "source": [
    "<div class=\"alert alert-info\" style=\"background-color:#006a79; color:white; padding:0px 10px; border-radius:5px;\"><h2 style='margin:10px 5px'>ROC CURVE</h2>\n",
    "</div>"
   ]
  },
  {
   "cell_type": "markdown",
   "metadata": {},
   "source": [
    "### Plot ROC and compare AUC"
   ]
  },
  {
   "cell_type": "markdown",
   "metadata": {},
   "source": [
    "**Area under the receiver operating characteristic curve(AUC/ROC)**\n",
    "\n",
    "* Area under Curve(AUC)\n",
    "* ROC curve\n",
    "\n",
    "ROC curves are a comparison of a model's true positive rae (tpr) versus a model false positive rate (fpr)\n",
    "\n",
    "* True positive = model predicts 1 when truth is 1\n",
    "* False positive = model predicts 1 when truth is 0\n",
    "* True negative = model predicts 0 when truth is 0\n",
    "* False negative = model predicts 0 when truth is 1\n"
   ]
  },
  {
   "cell_type": "markdown",
   "metadata": {},
   "source": [
    "This curve hugs the top left and has a very high area under the curve (AUC) so this model has performed well on bird strike test data set.\n",
    "\n",
    "The dashed blue line approximates the line using Random Classifier"
   ]
  },
  {
   "cell_type": "raw",
   "metadata": {},
   "source": [
    "Comparing Classifiers We can compare the performance of a classifier against each other to see which performs better using ROC curves"
   ]
  },
  {
   "cell_type": "code",
   "execution_count": null,
   "metadata": {},
   "outputs": [],
   "source": [
    "from sklearn.metrics import roc_curve, auc\n",
    "import matplotlib.pyplot as plt\n",
    "\n",
    "plt.style.use('ggplot')\n",
    "%matplotlib inline\n",
    "\n",
    "#Calcualte fpr, tpr, and thresholds\n",
    "#for Decsion Tree\n",
    "dt_fpr, dt_tpr, _ = roc_curve(y_test, y_pred)\n",
    "dt_roc_auc = auc(dt_fpr, dt_tpr)\n",
    "\n",
    "#for Logistic Regression\n",
    "lr_fpr, lr_tpr, _ = roc_curve(y_test, y_pred_test)\n",
    "lr_roc_auc = auc(lr_fpr, lr_tpr)\n",
    "\n",
    "#for KNN\n",
    "knn_fpr, knn_tpr, _ = roc_curve(y_test, y_predict)\n",
    "knn_roc_auc = auc(knn_fpr, knn_tpr)\n",
    "\n",
    "\n",
    "#for Naive Bayes\n",
    "nb_fpr, nb_tpr, _ = roc_curve(y_test, y_prediction)\n",
    "nb_roc_auc = auc(nb_fpr, nb_tpr)\n",
    "\n",
    "#for Support Vector Machine\n",
    "svm_fpr, svm_tpr, _ = roc_curve(y_test, y_preds)\n",
    "svm_roc_auc = auc(svm_fpr, svm_tpr)\n",
    "\n",
    "\n",
    "plt.figure()\n",
    "plt.plot(dt_fpr, dt_tpr, color='darkorange',\n",
    "         lw=2, label='Decision Tree (auc = %0.2f)' % dt_roc_auc)\n",
    "\n",
    "plt.plot(lr_fpr, lr_tpr, color='darkgreen',\n",
    "         lw=2, label='Logistic Regression (auc = %0.2f)' % lr_roc_auc)\n",
    "\n",
    "plt.plot(knn_fpr, knn_tpr, color='blue',\n",
    "         lw=2, label='K-Nearest Neighbours (auc = %0.2f)' % knn_roc_auc)\n",
    "\n",
    "plt.plot(nb_fpr, nb_tpr, color='red',\n",
    "         lw=2, label='Naive Bayes (auc = %0.2f)' % nb_roc_auc)\n",
    "\n",
    "plt.plot(svm_fpr, svm_tpr, color='yellow',\n",
    "         lw=2, label='Support Vector Classifier (auc = %0.2f)' % svm_roc_auc)\n",
    "\n",
    "plt.plot([0, 1], [0, 1], color='black', lw=2, linestyle='--', label='threshold')\n",
    "plt.xlim([0.0, 1.0])\n",
    "plt.ylim([0.0, 1.05])\n",
    "plt.xlabel('False Positive Rate')\n",
    "plt.ylabel('True Positive Rate')\n",
    "plt.title('ROC Curve')\n",
    "plt.legend(loc=\"lower right\")\n",
    "plt.show()\n"
   ]
  },
  {
   "cell_type": "markdown",
   "metadata": {},
   "source": [
    "SVM has 0.5 which is the same as the thresholds of the area of the curve. The highest performance of the classifier of the birdstrike prediction is K-Nearest Neigbor with 0.61.\n",
    "\n",
    "The roc was executed on all the x_test datasets unlike the second graph."
   ]
  },
  {
   "cell_type": "code",
   "execution_count": null,
   "metadata": {},
   "outputs": [],
   "source": [
    "from sklearn.metrics import average_precision_score\n",
    "\n",
    "average_precision = average_precision_score(y_test, y_pred)\n",
    "\n",
    "print('Average precision-recall score for Decision Tree : {0:0.2f}'.format(average_precision))"
   ]
  },
  {
   "cell_type": "code",
   "execution_count": null,
   "metadata": {},
   "outputs": [],
   "source": [
    "average_precision = average_precision_score(y_test, y_pred_test)\n",
    "\n",
    "print('Average precision-recall score for Logistic Regression : {0:0.2f}'.format(average_precision))"
   ]
  },
  {
   "cell_type": "code",
   "execution_count": null,
   "metadata": {},
   "outputs": [],
   "source": [
    "average_precision = average_precision_score(y_test, y_predict)\n",
    "\n",
    "print('Average precision-recall score for KNN : {0:0.2f}'.format(average_precision))"
   ]
  },
  {
   "cell_type": "code",
   "execution_count": null,
   "metadata": {},
   "outputs": [],
   "source": [
    "from sklearn.linear_model import LogisticRegression\n",
    "\n",
    "dt_model = DecisionTreeClassifier(criterion='entropy', max_depth=3)\n",
    "dt_model.fit(X_train, y_train)\n",
    "\n",
    "lr_model = LogisticRegression()\n",
    "lr_model.fit(X_train, y_train)\n",
    "\n",
    "knn_model = KNeighborsClassifier()\n",
    "knn_model.fit(X_train, y_train)\n",
    "\n",
    "nb_model = BernoulliNB(binarize=0.0)\n",
    "nb_model.fit(X_train, y_train)\n",
    "\n",
    "svm_model = svm.SVC(kernel='linear')\n",
    "svm_model.fit(X_train, y_train)\n",
    "\n",
    "\n",
    "#predictions with  probabilities\n",
    "dt_predict_probabilities = dt_model.predict_proba(X_test)[:,1]\n",
    "lr_predict_probabilities = lr_model.predict_proba(X_test)[:,1]\n",
    "knn_predict_probabilities = knn_model.predict_proba(X_test)[:,1]\n",
    "nb_predict_probabilities = nb_model.predict_proba(X_test)[:,1]\n",
    "#svm_predict_probabilities = svm_model.predict_proba(X_test)[:,1]\n",
    "\n",
    "\n",
    "dt_fpr, dt_tpr, _ = roc_curve(y_test, dt_predict_probabilities)\n",
    "dt_roc_auc = auc(dt_fpr, dt_tpr)\n",
    "\n",
    "lr_fpr, lr_tpr, _ = roc_curve(y_test, lr_predict_probabilities)\n",
    "lr_roc_auc = auc(lr_fpr, lr_tpr)\n",
    "\n",
    "knn_fpr, knn_tpr, _ = roc_curve(y_test, knn_predict_probabilities)\n",
    "knn_roc_auc = auc(knn_fpr, knn_tpr)\n",
    "\n",
    "nb_fpr, nb_tpr, _ = roc_curve(y_test, nb_predict_probabilities)\n",
    "nb_roc_auc = auc(nb_fpr, nb_tpr)\n",
    "\n",
    "#svm_fpr, svm_tpr, _ = roc_curve(y_test, svm_predict_probabilities)\n",
    "#svm_roc_auc = auc(svm_fpr, svm_tpr)\n",
    "\n",
    "\n",
    "plt.figure()\n",
    "plt.plot(dt_fpr, dt_tpr, color='darkorange',\n",
    "         lw=2, label='Decision Tree (auc = %0.2f)' % dt_roc_auc)\n",
    "\n",
    "plt.plot(lr_fpr, lr_tpr, color='darkgreen',\n",
    "         lw=2, label='Logistic Regression (auc = %0.2f)' % lr_roc_auc)\n",
    "\n",
    "plt.plot(knn_fpr, knn_tpr, color='blue',\n",
    "         lw=2, label='K-Nearest Neighbours (auc = %0.2f)' % knn_roc_auc)\n",
    "\n",
    "plt.plot(nb_fpr, nb_tpr, color='red',\n",
    "         lw=2, label='Naive Bayes (auc = %0.2f)' % nb_roc_auc)\n",
    "\n",
    "#plt.plot(svm_fpr, svm_tpr, color='red',\n",
    "#         lw=2, label='Support Vector Classifier (auc = %0.2f)' % svm_roc_auc)\n",
    "\n",
    "\n",
    "plt.plot([0, 1], [0, 1], color='black', lw=2, linestyle='--', label='threshold')\n",
    "plt.xlim([0.0, 1.0])\n",
    "plt.ylim([0.0, 1.05])\n",
    "plt.xlabel('False Positive Rate')\n",
    "plt.ylabel('True Positive Rate')\n",
    "plt.title('ROC Curve')\n",
    "plt.legend(loc=\"lower right\")\n",
    "plt.show()\n",
    "\n"
   ]
  },
  {
   "cell_type": "markdown",
   "metadata": {},
   "source": [
    "From the output given above, the prediction probabilities of ROC measures the performance of the classifiers, and Logistic Regression outperformed other classifier with 0.84 area of curve."
   ]
  },
  {
   "cell_type": "markdown",
   "metadata": {},
   "source": [
    "<div class=\"alert alert-info\" style=\"background-color:#006a79; color:white; padding:0px 10px; border-radius:5px;\"><h2 style='margin:10px 5px'>SAMPLE PREDICTIONS OF DIFFERENT MODELS</h2>\n",
    "</div>"
   ]
  },
  {
   "cell_type": "code",
   "execution_count": null,
   "metadata": {
    "scrolled": true
   },
   "outputs": [],
   "source": [
    "X_test.tail()"
   ]
  },
  {
   "cell_type": "code",
   "execution_count": null,
   "metadata": {},
   "outputs": [],
   "source": [
    "X_test.shape"
   ]
  },
  {
   "cell_type": "markdown",
   "metadata": {},
   "source": [
    "<div class=\"alert alert-info\" style=\"background-color:#006a79; color:white; padding:0px 10px; border-radius:5px;\"><h2 style='margin:10px 5px'>SAMPLE PREDICTIONS USING LOGISTIC REGRESSION</h2>\n",
    "</div>"
   ]
  },
  {
   "cell_type": "code",
   "execution_count": null,
   "metadata": {},
   "outputs": [],
   "source": [
    "def birdstrike_prediction(flight_data):\n",
    "    flight_data = StandardScaler().fit_transform(flight_data.values.reshape(1, -1))\n",
    "    prediction = logistic_regression.predict(flight_data)[0]\n",
    "    proba = logistic_regression.predict_proba(flight_data)[0][0]\n",
    "    \n",
    "    if prediction == 0:\n",
    "        return \"There will be no BirdStrike (with {:0.2f}% chance)\".format(100*proba)\n",
    "    else:\n",
    "        return \"There will be BirdStrike (with {:0.2f}% chance)\".format(100*(1-proba))"
   ]
  },
  {
   "cell_type": "code",
   "execution_count": null,
   "metadata": {},
   "outputs": [],
   "source": [
    "flight_data = OrderedDict([(\"AIRPORT\", 0.7),(\"STATE\", 0.5), (\"AIRCRAFT\", 0), (\"NUM_ENGS\", 1), (\"HEIGHT\", 0), (\"DISTANCE\", 0), \n",
    "                            (\"SKY\", 0), (\"SIZE\", 1), (\"HOUR\", 1), (\"MONTH\", 5), (\"SPECIES_Mourning dove\", 0), \n",
    "                            (\"SPECIES_Barn swallow\", 1), (\"PHASE_OF_FLIGHT_Landing Roll\", 0), (\"PHASE_OF_FLIGHT_Climb\", 1)])\n",
    "\n",
    "\n",
    "new_flight_data = pd.Series(flight_data)\n",
    "birdstrike_prediction(new_flight_data)"
   ]
  },
  {
   "cell_type": "markdown",
   "metadata": {},
   "source": [
    "<div class=\"alert alert-info\" style=\"background-color:#006a79; color:white; padding:0px 10px; border-radius:5px;\"><h2 style='margin:10px 5px'>SAMPLE PREDICTIONS USING KNN CLASSIFIER</h2>\n",
    "</div>"
   ]
  },
  {
   "cell_type": "code",
   "execution_count": null,
   "metadata": {},
   "outputs": [],
   "source": [
    "def birdstrike_prediction(flight_data):\n",
    "    flight_data = StandardScaler().fit_transform(flight_data.values.reshape(1, -1))\n",
    "    prediction = knn_model.predict(flight_data)[0]\n",
    "    proba = knn_model.predict_proba(flight_data)[0][0]\n",
    "    \n",
    "    if prediction == 0:\n",
    "        return \"There will be no BirdStrike (with {:0.2f}% chance)\".format(100*proba)\n",
    "    else:\n",
    "        return \"There will be BirdStrike (with {:0.2f}% chance)\".format(100*(1-proba))"
   ]
  },
  {
   "cell_type": "code",
   "execution_count": null,
   "metadata": {},
   "outputs": [],
   "source": [
    "flight_data = OrderedDict([(\"AIRPORT\", 0),(\"STATE\", 0), (\"AIRCRAFT\", 0), (\"NUM_ENGS\", 1), (\"HEIGHT\", 750), (\"DISTANCE\", 0), \n",
    "                            (\"SKY\", 0), (\"SIZE\", 1), (\"HOUR\", 12), (\"MONTH\", 1), (\"SPECIES_Mourning dove\", 1), \n",
    "                            (\"SPECIES_Barn swallow\", 0), (\"PHASE_OF_FLIGHT_Landing Roll\", 1), (\"PHASE_OF_FLIGHT_Climb\", 0)])\n",
    "\n",
    "\n",
    "new_flight_data = pd.Series(flight_data)\n",
    "birdstrike_prediction(new_flight_data)"
   ]
  },
  {
   "cell_type": "markdown",
   "metadata": {},
   "source": [
    "<div class=\"alert alert-info\" style=\"background-color:#006a79; color:white; padding:0px 10px; border-radius:5px;\"><h2 style='margin:10px 5px'>SAMPLE PREDICTIONS USING DECISION TREE</h2>\n",
    "</div>"
   ]
  },
  {
   "cell_type": "code",
   "execution_count": null,
   "metadata": {},
   "outputs": [],
   "source": [
    "def birdstrike_prediction(flight_data):\n",
    "    flight_data = StandardScaler().fit_transform(flight_data.values.reshape(1, -1))\n",
    "    prediction = dt_model.predict(flight_data)[0]\n",
    "    proba = dt_model.predict_proba(flight_data)[0][0]\n",
    "    \n",
    "    if prediction == 0:\n",
    "        return \"There will be no BirdStrike (with {:0.2f}% chance)\".format(100*proba)\n",
    "    else:\n",
    "        return \"There will be BirdStrike (with {:0.2f}% chance)\".format(100*(1-proba))"
   ]
  },
  {
   "cell_type": "code",
   "execution_count": null,
   "metadata": {},
   "outputs": [],
   "source": [
    "flight_data = OrderedDict([(\"AIRPORT\", 0),(\"STATE\", 0), (\"AIRCRAFT\", 0), (\"NUM_ENGS\", 1), (\"HEIGHT\", 750), (\"DISTANCE\", 0), \n",
    "                            (\"SKY\", 0), (\"SIZE\", 1), (\"HOUR\", 12), (\"MONTH\", 1), (\"SPECIES_Mourning dove\", 1), \n",
    "                            (\"SPECIES_Barn swallow\", 0), (\"PHASE_OF_FLIGHT_Landing Roll\", 1), (\"PHASE_OF_FLIGHT_Climb\", 0)])\n",
    "\n",
    "\n",
    "new_flight_data = pd.Series(flight_data)\n",
    "birdstrike_prediction(new_flight_data)"
   ]
  },
  {
   "cell_type": "code",
   "execution_count": null,
   "metadata": {},
   "outputs": [],
   "source": []
  }
 ],
 "metadata": {
  "kernelspec": {
   "display_name": "Python 3",
   "language": "python",
   "name": "python3"
  },
  "language_info": {
   "codemirror_mode": {
    "name": "ipython",
    "version": 3
   },
   "file_extension": ".py",
   "mimetype": "text/x-python",
   "name": "python",
   "nbconvert_exporter": "python",
   "pygments_lexer": "ipython3",
   "version": "3.7.1"
  }
 },
 "nbformat": 4,
 "nbformat_minor": 5
}
